{
 "cells": [
  {
   "cell_type": "markdown",
   "metadata": {
    "id": "NqqLNJZjfi8U"
   },
   "source": [
    "# 주제 : 오늘 밤 유럽 축구, 어디가 이길까? 데이터로 분석하고 내기를 이겨보자!\n",
    "----------\n",
    "\n",
    "## 데이터 소개\n",
    "    \n",
    "    \n",
    "    - 이번 주제는 European Soccer Database 데이터셋을 사용합니다.\n",
    "    \n",
    "    - 다음 1개의 sqlite 데이터베이스를 사용합니다.\n",
    "    \n",
    "    database.sqlite\n",
    "\n",
    "    - 데이터 베이스 내 총 7개의 Table을 사용합니다.\n",
    "    \n",
    "    Country: 국가 정보\n",
    "    \n",
    "    League: 리그 정보\n",
    "    \n",
    "    Match: 경기 정보 (주 데이터셋)\n",
    "    \n",
    "    Player: 플레이어 정보\n",
    "    \n",
    "    Player_Attributes: 플레이어의 특성\n",
    "    \n",
    "    Team: 팀 정보\n",
    "    \n",
    "    Team_Attributes: 팀의 특성\n",
    "    \n",
    "    \n",
    "- 데이터 출처: https://www.kaggle.com/hugomathien/soccer\n",
    "- License : \n",
    "http://football-data.mx-api.enetscores.com/ : scores, lineup, team formation and events\n",
    "\n",
    "http://www.football-data.co.uk/ : betting odds. Click here to understand the column naming system for betting odds:\n",
    "\n",
    "http://sofifa.com/ : players and teams attributes from EA Sports FIFA games. FIFA series and all FIFA assets property of EA Sports.\n",
    "\n",
    "## 최종 목표\n",
    "    \n",
    "    - SQL 데이터셋에서 테이블을 읽어들이는 방법 이해\n",
    "    \n",
    "    - 여러개의 테이블을 통합하는 방법 이해\n",
    "    \n",
    "    - 수 많은 데이터로부터 관심있는 데이터를 식별\n",
    "    \n",
    "    - 학습된 모델로부터 인사이트 습득 방법 이해\n",
    "\n",
    "\n",
    "- 출제자 : 신제용 강사\n",
    "---"
   ]
  },
  {
   "cell_type": "markdown",
   "metadata": {
    "id": "ODJVmYvIP3x-"
   },
   "source": [
    "## Step 0. 데이터베이스와 SQL"
   ]
  },
  {
   "cell_type": "markdown",
   "metadata": {
    "id": "c0iKTnLNsraM"
   },
   "source": [
    "### 데이터베이스란\n",
    "    1.RDB(관계형 데이터베이스) \n",
    ": table형태로 데이터를 저장을 하고, 테이블,데이터과의 관계를 통해 1:다, 다:다 같은 관계를 지을수 있다.\n",
    "이 관계를 통해 서로 상관이 있는 데이터를 엮어서 같이 보는것이 RDB이다. EX) My SQL, Oracle\n",
    "\n",
    "    2. NO SQL\n",
    ": 관계형 데이터 베이스와는 다르게 비정형 데이터를 관리하는 것을 말한다. 표 형태가 아니라 JSON형태이다."
   ]
  },
  {
   "cell_type": "markdown",
   "metadata": {
    "id": "cxZwPnfms0-9"
   },
   "source": [
    "### SQL과 Query\n",
    "    1.SQL\n",
    ":Structural Query Language\n",
    "      \n",
    "    2. Query\n",
    ": 질의\n"
   ]
  },
  {
   "cell_type": "markdown",
   "metadata": {
    "id": "IRssoNrgP7So"
   },
   "source": [
    "## Step 1. 데이터셋 준비하기"
   ]
  },
  {
   "cell_type": "markdown",
   "metadata": {
    "id": "aJ34SovLtFI8"
   },
   "source": [
    "### 문제 3. sqlite3와 Pandas로 sqlite 데이터베이스 읽어들이기\n"
   ]
  },
  {
   "cell_type": "code",
   "execution_count": 1,
   "metadata": {
    "ExecuteTime": {
     "end_time": "2021-07-25T10:21:33.623081Z",
     "start_time": "2021-07-25T10:21:26.628784Z"
    },
    "id": "DZ-8iJkV6mI6"
   },
   "outputs": [],
   "source": [
    "import pandas as pd\n",
    "import numpy as np\n",
    "import matplotlib.pyplot as plt\n",
    "import seaborn as sns\n",
    "import sqlite3"
   ]
  },
  {
   "cell_type": "code",
   "execution_count": 2,
   "metadata": {
    "ExecuteTime": {
     "end_time": "2021-07-25T10:21:54.376982Z",
     "start_time": "2021-07-25T10:21:33.627020Z"
    },
    "id": "RnJv-4YwCMSx"
   },
   "outputs": [],
   "source": [
    "# sqlite3.connect()와 pd.read_sql_query()로 csv파일 읽어들이기\n",
    "conn = sqlite3.connect('database.sqlite')\n",
    "df_country = pd.read_sql_query('SELECT * from Country', conn)\n",
    "df_league = pd.read_sql_query('SELECT * from League', conn)\n",
    "df_match = pd.read_sql_query('SELECT * from Match', conn)\n",
    "df_player = pd.read_sql_query('SELECT * from Player', conn)\n",
    "df_player_att = pd.read_sql_query('SELECT * from Player_Attributes', conn)\n",
    "df_team = pd.read_sql_query('SELECT * from Team', conn)\n",
    "df_team_att = pd.read_sql_query('SELECT * from Team_Attributes', conn)"
   ]
  },
  {
   "cell_type": "markdown",
   "metadata": {
    "id": "9L3BNVM7tHN5"
   },
   "source": [
    "## Step 2. EDA 및 데이터 기초 통계 분석\n"
   ]
  },
  {
   "cell_type": "markdown",
   "metadata": {
    "id": "HyFm33tNtVn7"
   },
   "source": [
    "### 문제 4. 각 데이터프레임의 구조 파악하기\n"
   ]
  },
  {
   "cell_type": "code",
   "execution_count": 3,
   "metadata": {
    "ExecuteTime": {
     "end_time": "2021-07-25T10:21:54.468373Z",
     "start_time": "2021-07-25T10:21:54.383597Z"
    }
   },
   "outputs": [
    {
     "data": {
      "text/html": [
       "<div>\n",
       "<style scoped>\n",
       "    .dataframe tbody tr th:only-of-type {\n",
       "        vertical-align: middle;\n",
       "    }\n",
       "\n",
       "    .dataframe tbody tr th {\n",
       "        vertical-align: top;\n",
       "    }\n",
       "\n",
       "    .dataframe thead th {\n",
       "        text-align: right;\n",
       "    }\n",
       "</style>\n",
       "<table border=\"1\" class=\"dataframe\">\n",
       "  <thead>\n",
       "    <tr style=\"text-align: right;\">\n",
       "      <th></th>\n",
       "      <th>id</th>\n",
       "      <th>name</th>\n",
       "    </tr>\n",
       "  </thead>\n",
       "  <tbody>\n",
       "    <tr>\n",
       "      <th>0</th>\n",
       "      <td>1</td>\n",
       "      <td>Belgium</td>\n",
       "    </tr>\n",
       "    <tr>\n",
       "      <th>1</th>\n",
       "      <td>1729</td>\n",
       "      <td>England</td>\n",
       "    </tr>\n",
       "    <tr>\n",
       "      <th>2</th>\n",
       "      <td>4769</td>\n",
       "      <td>France</td>\n",
       "    </tr>\n",
       "    <tr>\n",
       "      <th>3</th>\n",
       "      <td>7809</td>\n",
       "      <td>Germany</td>\n",
       "    </tr>\n",
       "    <tr>\n",
       "      <th>4</th>\n",
       "      <td>10257</td>\n",
       "      <td>Italy</td>\n",
       "    </tr>\n",
       "  </tbody>\n",
       "</table>\n",
       "</div>"
      ],
      "text/plain": [
       "      id     name\n",
       "0      1  Belgium\n",
       "1   1729  England\n",
       "2   4769   France\n",
       "3   7809  Germany\n",
       "4  10257    Italy"
      ]
     },
     "execution_count": 3,
     "metadata": {},
     "output_type": "execute_result"
    }
   ],
   "source": [
    "df_country.head()"
   ]
  },
  {
   "cell_type": "code",
   "execution_count": 4,
   "metadata": {
    "ExecuteTime": {
     "end_time": "2021-07-25T10:21:54.576438Z",
     "start_time": "2021-07-25T10:21:54.475351Z"
    }
   },
   "outputs": [
    {
     "name": "stdout",
     "output_type": "stream",
     "text": [
      "<class 'pandas.core.frame.DataFrame'>\n",
      "RangeIndex: 11 entries, 0 to 10\n",
      "Data columns (total 2 columns):\n",
      " #   Column  Non-Null Count  Dtype \n",
      "---  ------  --------------  ----- \n",
      " 0   id      11 non-null     int64 \n",
      " 1   name    11 non-null     object\n",
      "dtypes: int64(1), object(1)\n",
      "memory usage: 304.0+ bytes\n"
     ]
    }
   ],
   "source": [
    "df_country.info()"
   ]
  },
  {
   "cell_type": "code",
   "execution_count": 5,
   "metadata": {
    "ExecuteTime": {
     "end_time": "2021-07-25T10:21:54.622712Z",
     "start_time": "2021-07-25T10:21:54.580641Z"
    }
   },
   "outputs": [
    {
     "data": {
      "text/html": [
       "<div>\n",
       "<style scoped>\n",
       "    .dataframe tbody tr th:only-of-type {\n",
       "        vertical-align: middle;\n",
       "    }\n",
       "\n",
       "    .dataframe tbody tr th {\n",
       "        vertical-align: top;\n",
       "    }\n",
       "\n",
       "    .dataframe thead th {\n",
       "        text-align: right;\n",
       "    }\n",
       "</style>\n",
       "<table border=\"1\" class=\"dataframe\">\n",
       "  <thead>\n",
       "    <tr style=\"text-align: right;\">\n",
       "      <th></th>\n",
       "      <th>id</th>\n",
       "      <th>country_id</th>\n",
       "      <th>name</th>\n",
       "    </tr>\n",
       "  </thead>\n",
       "  <tbody>\n",
       "    <tr>\n",
       "      <th>0</th>\n",
       "      <td>1</td>\n",
       "      <td>1</td>\n",
       "      <td>Belgium Jupiler League</td>\n",
       "    </tr>\n",
       "    <tr>\n",
       "      <th>1</th>\n",
       "      <td>1729</td>\n",
       "      <td>1729</td>\n",
       "      <td>England Premier League</td>\n",
       "    </tr>\n",
       "    <tr>\n",
       "      <th>2</th>\n",
       "      <td>4769</td>\n",
       "      <td>4769</td>\n",
       "      <td>France Ligue 1</td>\n",
       "    </tr>\n",
       "    <tr>\n",
       "      <th>3</th>\n",
       "      <td>7809</td>\n",
       "      <td>7809</td>\n",
       "      <td>Germany 1. Bundesliga</td>\n",
       "    </tr>\n",
       "    <tr>\n",
       "      <th>4</th>\n",
       "      <td>10257</td>\n",
       "      <td>10257</td>\n",
       "      <td>Italy Serie A</td>\n",
       "    </tr>\n",
       "  </tbody>\n",
       "</table>\n",
       "</div>"
      ],
      "text/plain": [
       "      id  country_id                    name\n",
       "0      1           1  Belgium Jupiler League\n",
       "1   1729        1729  England Premier League\n",
       "2   4769        4769          France Ligue 1\n",
       "3   7809        7809   Germany 1. Bundesliga\n",
       "4  10257       10257           Italy Serie A"
      ]
     },
     "execution_count": 5,
     "metadata": {},
     "output_type": "execute_result"
    }
   ],
   "source": [
    "df_league.head()"
   ]
  },
  {
   "cell_type": "code",
   "execution_count": 6,
   "metadata": {
    "ExecuteTime": {
     "end_time": "2021-07-25T10:21:54.667837Z",
     "start_time": "2021-07-25T10:21:54.625949Z"
    }
   },
   "outputs": [
    {
     "name": "stdout",
     "output_type": "stream",
     "text": [
      "<class 'pandas.core.frame.DataFrame'>\n",
      "RangeIndex: 11 entries, 0 to 10\n",
      "Data columns (total 3 columns):\n",
      " #   Column      Non-Null Count  Dtype \n",
      "---  ------      --------------  ----- \n",
      " 0   id          11 non-null     int64 \n",
      " 1   country_id  11 non-null     int64 \n",
      " 2   name        11 non-null     object\n",
      "dtypes: int64(2), object(1)\n",
      "memory usage: 392.0+ bytes\n"
     ]
    }
   ],
   "source": [
    "df_league.info()"
   ]
  },
  {
   "cell_type": "code",
   "execution_count": 7,
   "metadata": {
    "ExecuteTime": {
     "end_time": "2021-07-25T10:21:54.697985Z",
     "start_time": "2021-07-25T10:21:54.672826Z"
    }
   },
   "outputs": [
    {
     "data": {
      "text/plain": [
       "array([    1,  1729,  4769,  7809, 10257, 13274, 15722, 17642, 19694,\n",
       "       21518, 24558], dtype=int64)"
      ]
     },
     "execution_count": 7,
     "metadata": {},
     "output_type": "execute_result"
    }
   ],
   "source": [
    "df_league['id'].unique()"
   ]
  },
  {
   "cell_type": "code",
   "execution_count": 8,
   "metadata": {
    "ExecuteTime": {
     "end_time": "2021-07-25T10:21:54.729727Z",
     "start_time": "2021-07-25T10:21:54.707730Z"
    }
   },
   "outputs": [
    {
     "data": {
      "text/plain": [
       "array([    1,  1729,  4769,  7809, 10257, 13274, 15722, 17642, 19694,\n",
       "       21518, 24558], dtype=int64)"
      ]
     },
     "execution_count": 8,
     "metadata": {},
     "output_type": "execute_result"
    }
   ],
   "source": [
    "df_league['country_id'].unique()"
   ]
  },
  {
   "cell_type": "code",
   "execution_count": 9,
   "metadata": {
    "ExecuteTime": {
     "end_time": "2021-07-25T10:21:54.791508Z",
     "start_time": "2021-07-25T10:21:54.733660Z"
    },
    "scrolled": true
   },
   "outputs": [
    {
     "data": {
      "text/html": [
       "<div>\n",
       "<style scoped>\n",
       "    .dataframe tbody tr th:only-of-type {\n",
       "        vertical-align: middle;\n",
       "    }\n",
       "\n",
       "    .dataframe tbody tr th {\n",
       "        vertical-align: top;\n",
       "    }\n",
       "\n",
       "    .dataframe thead th {\n",
       "        text-align: right;\n",
       "    }\n",
       "</style>\n",
       "<table border=\"1\" class=\"dataframe\">\n",
       "  <thead>\n",
       "    <tr style=\"text-align: right;\">\n",
       "      <th></th>\n",
       "      <th>id</th>\n",
       "      <th>country_id</th>\n",
       "      <th>league_id</th>\n",
       "      <th>season</th>\n",
       "      <th>stage</th>\n",
       "      <th>date</th>\n",
       "      <th>match_api_id</th>\n",
       "      <th>home_team_api_id</th>\n",
       "      <th>away_team_api_id</th>\n",
       "      <th>home_team_goal</th>\n",
       "      <th>...</th>\n",
       "      <th>SJA</th>\n",
       "      <th>VCH</th>\n",
       "      <th>VCD</th>\n",
       "      <th>VCA</th>\n",
       "      <th>GBH</th>\n",
       "      <th>GBD</th>\n",
       "      <th>GBA</th>\n",
       "      <th>BSH</th>\n",
       "      <th>BSD</th>\n",
       "      <th>BSA</th>\n",
       "    </tr>\n",
       "  </thead>\n",
       "  <tbody>\n",
       "    <tr>\n",
       "      <th>0</th>\n",
       "      <td>1</td>\n",
       "      <td>1</td>\n",
       "      <td>1</td>\n",
       "      <td>2008/2009</td>\n",
       "      <td>1</td>\n",
       "      <td>2008-08-17 00:00:00</td>\n",
       "      <td>492473</td>\n",
       "      <td>9987</td>\n",
       "      <td>9993</td>\n",
       "      <td>1</td>\n",
       "      <td>...</td>\n",
       "      <td>4.00</td>\n",
       "      <td>1.65</td>\n",
       "      <td>3.40</td>\n",
       "      <td>4.50</td>\n",
       "      <td>1.78</td>\n",
       "      <td>3.25</td>\n",
       "      <td>4.00</td>\n",
       "      <td>1.73</td>\n",
       "      <td>3.40</td>\n",
       "      <td>4.20</td>\n",
       "    </tr>\n",
       "    <tr>\n",
       "      <th>1</th>\n",
       "      <td>2</td>\n",
       "      <td>1</td>\n",
       "      <td>1</td>\n",
       "      <td>2008/2009</td>\n",
       "      <td>1</td>\n",
       "      <td>2008-08-16 00:00:00</td>\n",
       "      <td>492474</td>\n",
       "      <td>10000</td>\n",
       "      <td>9994</td>\n",
       "      <td>0</td>\n",
       "      <td>...</td>\n",
       "      <td>3.80</td>\n",
       "      <td>2.00</td>\n",
       "      <td>3.25</td>\n",
       "      <td>3.25</td>\n",
       "      <td>1.85</td>\n",
       "      <td>3.25</td>\n",
       "      <td>3.75</td>\n",
       "      <td>1.91</td>\n",
       "      <td>3.25</td>\n",
       "      <td>3.60</td>\n",
       "    </tr>\n",
       "    <tr>\n",
       "      <th>2</th>\n",
       "      <td>3</td>\n",
       "      <td>1</td>\n",
       "      <td>1</td>\n",
       "      <td>2008/2009</td>\n",
       "      <td>1</td>\n",
       "      <td>2008-08-16 00:00:00</td>\n",
       "      <td>492475</td>\n",
       "      <td>9984</td>\n",
       "      <td>8635</td>\n",
       "      <td>0</td>\n",
       "      <td>...</td>\n",
       "      <td>2.50</td>\n",
       "      <td>2.35</td>\n",
       "      <td>3.25</td>\n",
       "      <td>2.65</td>\n",
       "      <td>2.50</td>\n",
       "      <td>3.20</td>\n",
       "      <td>2.50</td>\n",
       "      <td>2.30</td>\n",
       "      <td>3.20</td>\n",
       "      <td>2.75</td>\n",
       "    </tr>\n",
       "    <tr>\n",
       "      <th>3</th>\n",
       "      <td>4</td>\n",
       "      <td>1</td>\n",
       "      <td>1</td>\n",
       "      <td>2008/2009</td>\n",
       "      <td>1</td>\n",
       "      <td>2008-08-17 00:00:00</td>\n",
       "      <td>492476</td>\n",
       "      <td>9991</td>\n",
       "      <td>9998</td>\n",
       "      <td>5</td>\n",
       "      <td>...</td>\n",
       "      <td>7.50</td>\n",
       "      <td>1.45</td>\n",
       "      <td>3.75</td>\n",
       "      <td>6.50</td>\n",
       "      <td>1.50</td>\n",
       "      <td>3.75</td>\n",
       "      <td>5.50</td>\n",
       "      <td>1.44</td>\n",
       "      <td>3.75</td>\n",
       "      <td>6.50</td>\n",
       "    </tr>\n",
       "    <tr>\n",
       "      <th>4</th>\n",
       "      <td>5</td>\n",
       "      <td>1</td>\n",
       "      <td>1</td>\n",
       "      <td>2008/2009</td>\n",
       "      <td>1</td>\n",
       "      <td>2008-08-16 00:00:00</td>\n",
       "      <td>492477</td>\n",
       "      <td>7947</td>\n",
       "      <td>9985</td>\n",
       "      <td>1</td>\n",
       "      <td>...</td>\n",
       "      <td>1.73</td>\n",
       "      <td>4.50</td>\n",
       "      <td>3.40</td>\n",
       "      <td>1.65</td>\n",
       "      <td>4.50</td>\n",
       "      <td>3.50</td>\n",
       "      <td>1.65</td>\n",
       "      <td>4.75</td>\n",
       "      <td>3.30</td>\n",
       "      <td>1.67</td>\n",
       "    </tr>\n",
       "  </tbody>\n",
       "</table>\n",
       "<p>5 rows × 115 columns</p>\n",
       "</div>"
      ],
      "text/plain": [
       "   id  country_id  league_id     season  stage                 date  \\\n",
       "0   1           1          1  2008/2009      1  2008-08-17 00:00:00   \n",
       "1   2           1          1  2008/2009      1  2008-08-16 00:00:00   \n",
       "2   3           1          1  2008/2009      1  2008-08-16 00:00:00   \n",
       "3   4           1          1  2008/2009      1  2008-08-17 00:00:00   \n",
       "4   5           1          1  2008/2009      1  2008-08-16 00:00:00   \n",
       "\n",
       "   match_api_id  home_team_api_id  away_team_api_id  home_team_goal  ...  \\\n",
       "0        492473              9987              9993               1  ...   \n",
       "1        492474             10000              9994               0  ...   \n",
       "2        492475              9984              8635               0  ...   \n",
       "3        492476              9991              9998               5  ...   \n",
       "4        492477              7947              9985               1  ...   \n",
       "\n",
       "    SJA   VCH   VCD   VCA   GBH   GBD   GBA   BSH   BSD   BSA  \n",
       "0  4.00  1.65  3.40  4.50  1.78  3.25  4.00  1.73  3.40  4.20  \n",
       "1  3.80  2.00  3.25  3.25  1.85  3.25  3.75  1.91  3.25  3.60  \n",
       "2  2.50  2.35  3.25  2.65  2.50  3.20  2.50  2.30  3.20  2.75  \n",
       "3  7.50  1.45  3.75  6.50  1.50  3.75  5.50  1.44  3.75  6.50  \n",
       "4  1.73  4.50  3.40  1.65  4.50  3.50  1.65  4.75  3.30  1.67  \n",
       "\n",
       "[5 rows x 115 columns]"
      ]
     },
     "execution_count": 9,
     "metadata": {},
     "output_type": "execute_result"
    }
   ],
   "source": [
    "df_match.head()"
   ]
  },
  {
   "cell_type": "code",
   "execution_count": 10,
   "metadata": {
    "ExecuteTime": {
     "end_time": "2021-07-25T10:21:54.807253Z",
     "start_time": "2021-07-25T10:21:54.794498Z"
    }
   },
   "outputs": [
    {
     "data": {
      "text/plain": [
       "array([ 1, 10, 11, 12, 13, 14, 15, 16, 17, 18, 19,  2, 20, 21, 22, 23, 24,\n",
       "       25, 26, 27, 28, 29,  3, 30, 31, 32, 33, 34,  4,  5,  6,  7,  8,  9,\n",
       "       35, 36, 37, 38], dtype=int64)"
      ]
     },
     "execution_count": 10,
     "metadata": {},
     "output_type": "execute_result"
    }
   ],
   "source": [
    "df_match['stage'].unique()"
   ]
  },
  {
   "cell_type": "code",
   "execution_count": 11,
   "metadata": {
    "ExecuteTime": {
     "end_time": "2021-07-25T10:21:54.823421Z",
     "start_time": "2021-07-25T10:21:54.810763Z"
    }
   },
   "outputs": [
    {
     "name": "stdout",
     "output_type": "stream",
     "text": [
      "id\n",
      "country_id\n",
      "league_id\n",
      "season\n",
      "stage\n",
      "date\n",
      "match_api_id\n",
      "home_team_api_id\n",
      "away_team_api_id\n",
      "home_team_goal\n",
      "away_team_goal\n",
      "home_player_X1\n",
      "home_player_X2\n",
      "home_player_X3\n",
      "home_player_X4\n",
      "home_player_X5\n",
      "home_player_X6\n",
      "home_player_X7\n",
      "home_player_X8\n",
      "home_player_X9\n",
      "home_player_X10\n",
      "home_player_X11\n",
      "away_player_X1\n",
      "away_player_X2\n",
      "away_player_X3\n",
      "away_player_X4\n",
      "away_player_X5\n",
      "away_player_X6\n",
      "away_player_X7\n",
      "away_player_X8\n",
      "away_player_X9\n",
      "away_player_X10\n",
      "away_player_X11\n",
      "home_player_Y1\n",
      "home_player_Y2\n",
      "home_player_Y3\n",
      "home_player_Y4\n",
      "home_player_Y5\n",
      "home_player_Y6\n",
      "home_player_Y7\n",
      "home_player_Y8\n",
      "home_player_Y9\n",
      "home_player_Y10\n",
      "home_player_Y11\n",
      "away_player_Y1\n",
      "away_player_Y2\n",
      "away_player_Y3\n",
      "away_player_Y4\n",
      "away_player_Y5\n",
      "away_player_Y6\n",
      "away_player_Y7\n",
      "away_player_Y8\n",
      "away_player_Y9\n",
      "away_player_Y10\n",
      "away_player_Y11\n",
      "home_player_1\n",
      "home_player_2\n",
      "home_player_3\n",
      "home_player_4\n",
      "home_player_5\n",
      "home_player_6\n",
      "home_player_7\n",
      "home_player_8\n",
      "home_player_9\n",
      "home_player_10\n",
      "home_player_11\n",
      "away_player_1\n",
      "away_player_2\n",
      "away_player_3\n",
      "away_player_4\n",
      "away_player_5\n",
      "away_player_6\n",
      "away_player_7\n",
      "away_player_8\n",
      "away_player_9\n",
      "away_player_10\n",
      "away_player_11\n",
      "goal\n",
      "shoton\n",
      "shotoff\n",
      "foulcommit\n",
      "card\n",
      "cross\n",
      "corner\n",
      "possession\n",
      "B365H\n",
      "B365D\n",
      "B365A\n",
      "BWH\n",
      "BWD\n",
      "BWA\n",
      "IWH\n",
      "IWD\n",
      "IWA\n",
      "LBH\n",
      "LBD\n",
      "LBA\n",
      "PSH\n",
      "PSD\n",
      "PSA\n",
      "WHH\n",
      "WHD\n",
      "WHA\n",
      "SJH\n",
      "SJD\n",
      "SJA\n",
      "VCH\n",
      "VCD\n",
      "VCA\n",
      "GBH\n",
      "GBD\n",
      "GBA\n",
      "BSH\n",
      "BSD\n",
      "BSA\n"
     ]
    }
   ],
   "source": [
    "for c in df_match.columns:\n",
    "    print(c)"
   ]
  },
  {
   "cell_type": "code",
   "execution_count": 12,
   "metadata": {
    "ExecuteTime": {
     "end_time": "2021-07-25T10:21:54.853340Z",
     "start_time": "2021-07-25T10:21:54.829405Z"
    }
   },
   "outputs": [
    {
     "name": "stdout",
     "output_type": "stream",
     "text": [
      "<class 'pandas.core.frame.DataFrame'>\n",
      "RangeIndex: 25979 entries, 0 to 25978\n",
      "Columns: 115 entries, id to BSA\n",
      "dtypes: float64(96), int64(9), object(10)\n",
      "memory usage: 22.8+ MB\n"
     ]
    }
   ],
   "source": [
    "df_match.info()"
   ]
  },
  {
   "cell_type": "code",
   "execution_count": 13,
   "metadata": {
    "ExecuteTime": {
     "end_time": "2021-07-25T10:21:54.917628Z",
     "start_time": "2021-07-25T10:21:54.857606Z"
    }
   },
   "outputs": [
    {
     "name": "stdout",
     "output_type": "stream",
     "text": [
      "id 0\n",
      "country_id 0\n",
      "league_id 0\n",
      "season 0\n",
      "stage 0\n",
      "date 0\n",
      "match_api_id 0\n",
      "home_team_api_id 0\n",
      "away_team_api_id 0\n",
      "home_team_goal 0\n",
      "away_team_goal 0\n",
      "home_player_X1 1821\n",
      "home_player_X2 1821\n",
      "home_player_X3 1832\n",
      "home_player_X4 1832\n",
      "home_player_X5 1832\n",
      "home_player_X6 1832\n",
      "home_player_X7 1832\n",
      "home_player_X8 1832\n",
      "home_player_X9 1832\n",
      "home_player_X10 1832\n",
      "home_player_X11 1832\n",
      "away_player_X1 1832\n",
      "away_player_X2 1832\n",
      "away_player_X3 1832\n",
      "away_player_X4 1832\n",
      "away_player_X5 1832\n",
      "away_player_X6 1832\n",
      "away_player_X7 1832\n",
      "away_player_X8 1832\n",
      "away_player_X9 1833\n",
      "away_player_X10 1833\n",
      "away_player_X11 1839\n",
      "home_player_Y1 1821\n",
      "home_player_Y2 1821\n",
      "home_player_Y3 1832\n",
      "home_player_Y4 1832\n",
      "home_player_Y5 1832\n",
      "home_player_Y6 1832\n",
      "home_player_Y7 1832\n",
      "home_player_Y8 1832\n",
      "home_player_Y9 1832\n",
      "home_player_Y10 1832\n",
      "home_player_Y11 1832\n",
      "away_player_Y1 1832\n",
      "away_player_Y2 1832\n",
      "away_player_Y3 1832\n",
      "away_player_Y4 1832\n",
      "away_player_Y5 1832\n",
      "away_player_Y6 1832\n",
      "away_player_Y7 1832\n",
      "away_player_Y8 1832\n",
      "away_player_Y9 1833\n",
      "away_player_Y10 1833\n",
      "away_player_Y11 1839\n",
      "home_player_1 1224\n",
      "home_player_2 1315\n",
      "home_player_3 1281\n",
      "home_player_4 1323\n",
      "home_player_5 1316\n",
      "home_player_6 1325\n",
      "home_player_7 1227\n",
      "home_player_8 1309\n",
      "home_player_9 1273\n",
      "home_player_10 1436\n",
      "home_player_11 1555\n",
      "away_player_1 1234\n",
      "away_player_2 1278\n",
      "away_player_3 1293\n",
      "away_player_4 1321\n",
      "away_player_5 1335\n",
      "away_player_6 1313\n",
      "away_player_7 1235\n",
      "away_player_8 1341\n",
      "away_player_9 1328\n",
      "away_player_10 1441\n",
      "away_player_11 1554\n",
      "goal 11762\n",
      "shoton 11762\n",
      "shotoff 11762\n",
      "foulcommit 11762\n",
      "card 11762\n",
      "cross 11762\n",
      "corner 11762\n",
      "possession 11762\n",
      "B365H 3387\n",
      "B365D 3387\n",
      "B365A 3387\n",
      "BWH 3404\n",
      "BWD 3404\n",
      "BWA 3404\n",
      "IWH 3459\n",
      "IWD 3459\n",
      "IWA 3459\n",
      "LBH 3423\n",
      "LBD 3423\n",
      "LBA 3423\n",
      "PSH 14811\n",
      "PSD 14811\n",
      "PSA 14811\n",
      "WHH 3408\n",
      "WHD 3408\n",
      "WHA 3408\n",
      "SJH 8882\n",
      "SJD 8882\n",
      "SJA 8882\n",
      "VCH 3411\n",
      "VCD 3411\n",
      "VCA 3411\n",
      "GBH 11817\n",
      "GBD 11817\n",
      "GBA 11817\n",
      "BSH 11818\n",
      "BSD 11818\n",
      "BSA 11818\n"
     ]
    }
   ],
   "source": [
    "for c,num in zip(df_match.columns,df_match.isna().sum()):\n",
    "    print(c,num)"
   ]
  },
  {
   "cell_type": "code",
   "execution_count": 14,
   "metadata": {
    "ExecuteTime": {
     "end_time": "2021-07-25T10:21:54.949082Z",
     "start_time": "2021-07-25T10:21:54.921359Z"
    }
   },
   "outputs": [],
   "source": [
    "df_match.drop(df_match.columns[-38:],axis=1, inplace=True)"
   ]
  },
  {
   "cell_type": "code",
   "execution_count": 15,
   "metadata": {
    "ExecuteTime": {
     "end_time": "2021-07-25T10:21:54.996955Z",
     "start_time": "2021-07-25T10:21:54.952076Z"
    }
   },
   "outputs": [
    {
     "data": {
      "text/html": [
       "<div>\n",
       "<style scoped>\n",
       "    .dataframe tbody tr th:only-of-type {\n",
       "        vertical-align: middle;\n",
       "    }\n",
       "\n",
       "    .dataframe tbody tr th {\n",
       "        vertical-align: top;\n",
       "    }\n",
       "\n",
       "    .dataframe thead th {\n",
       "        text-align: right;\n",
       "    }\n",
       "</style>\n",
       "<table border=\"1\" class=\"dataframe\">\n",
       "  <thead>\n",
       "    <tr style=\"text-align: right;\">\n",
       "      <th></th>\n",
       "      <th>id</th>\n",
       "      <th>country_id</th>\n",
       "      <th>league_id</th>\n",
       "      <th>season</th>\n",
       "      <th>stage</th>\n",
       "      <th>date</th>\n",
       "      <th>match_api_id</th>\n",
       "      <th>home_team_api_id</th>\n",
       "      <th>away_team_api_id</th>\n",
       "      <th>home_team_goal</th>\n",
       "      <th>...</th>\n",
       "      <th>away_player_2</th>\n",
       "      <th>away_player_3</th>\n",
       "      <th>away_player_4</th>\n",
       "      <th>away_player_5</th>\n",
       "      <th>away_player_6</th>\n",
       "      <th>away_player_7</th>\n",
       "      <th>away_player_8</th>\n",
       "      <th>away_player_9</th>\n",
       "      <th>away_player_10</th>\n",
       "      <th>away_player_11</th>\n",
       "    </tr>\n",
       "  </thead>\n",
       "  <tbody>\n",
       "    <tr>\n",
       "      <th>0</th>\n",
       "      <td>1</td>\n",
       "      <td>1</td>\n",
       "      <td>1</td>\n",
       "      <td>2008/2009</td>\n",
       "      <td>1</td>\n",
       "      <td>2008-08-17 00:00:00</td>\n",
       "      <td>492473</td>\n",
       "      <td>9987</td>\n",
       "      <td>9993</td>\n",
       "      <td>1</td>\n",
       "      <td>...</td>\n",
       "      <td>NaN</td>\n",
       "      <td>NaN</td>\n",
       "      <td>NaN</td>\n",
       "      <td>NaN</td>\n",
       "      <td>NaN</td>\n",
       "      <td>NaN</td>\n",
       "      <td>NaN</td>\n",
       "      <td>NaN</td>\n",
       "      <td>NaN</td>\n",
       "      <td>NaN</td>\n",
       "    </tr>\n",
       "    <tr>\n",
       "      <th>1</th>\n",
       "      <td>2</td>\n",
       "      <td>1</td>\n",
       "      <td>1</td>\n",
       "      <td>2008/2009</td>\n",
       "      <td>1</td>\n",
       "      <td>2008-08-16 00:00:00</td>\n",
       "      <td>492474</td>\n",
       "      <td>10000</td>\n",
       "      <td>9994</td>\n",
       "      <td>0</td>\n",
       "      <td>...</td>\n",
       "      <td>NaN</td>\n",
       "      <td>NaN</td>\n",
       "      <td>NaN</td>\n",
       "      <td>NaN</td>\n",
       "      <td>NaN</td>\n",
       "      <td>NaN</td>\n",
       "      <td>NaN</td>\n",
       "      <td>NaN</td>\n",
       "      <td>NaN</td>\n",
       "      <td>NaN</td>\n",
       "    </tr>\n",
       "    <tr>\n",
       "      <th>2</th>\n",
       "      <td>3</td>\n",
       "      <td>1</td>\n",
       "      <td>1</td>\n",
       "      <td>2008/2009</td>\n",
       "      <td>1</td>\n",
       "      <td>2008-08-16 00:00:00</td>\n",
       "      <td>492475</td>\n",
       "      <td>9984</td>\n",
       "      <td>8635</td>\n",
       "      <td>0</td>\n",
       "      <td>...</td>\n",
       "      <td>NaN</td>\n",
       "      <td>NaN</td>\n",
       "      <td>NaN</td>\n",
       "      <td>NaN</td>\n",
       "      <td>NaN</td>\n",
       "      <td>NaN</td>\n",
       "      <td>NaN</td>\n",
       "      <td>NaN</td>\n",
       "      <td>NaN</td>\n",
       "      <td>NaN</td>\n",
       "    </tr>\n",
       "    <tr>\n",
       "      <th>3</th>\n",
       "      <td>4</td>\n",
       "      <td>1</td>\n",
       "      <td>1</td>\n",
       "      <td>2008/2009</td>\n",
       "      <td>1</td>\n",
       "      <td>2008-08-17 00:00:00</td>\n",
       "      <td>492476</td>\n",
       "      <td>9991</td>\n",
       "      <td>9998</td>\n",
       "      <td>5</td>\n",
       "      <td>...</td>\n",
       "      <td>NaN</td>\n",
       "      <td>NaN</td>\n",
       "      <td>NaN</td>\n",
       "      <td>NaN</td>\n",
       "      <td>NaN</td>\n",
       "      <td>NaN</td>\n",
       "      <td>NaN</td>\n",
       "      <td>NaN</td>\n",
       "      <td>NaN</td>\n",
       "      <td>NaN</td>\n",
       "    </tr>\n",
       "    <tr>\n",
       "      <th>4</th>\n",
       "      <td>5</td>\n",
       "      <td>1</td>\n",
       "      <td>1</td>\n",
       "      <td>2008/2009</td>\n",
       "      <td>1</td>\n",
       "      <td>2008-08-16 00:00:00</td>\n",
       "      <td>492477</td>\n",
       "      <td>7947</td>\n",
       "      <td>9985</td>\n",
       "      <td>1</td>\n",
       "      <td>...</td>\n",
       "      <td>NaN</td>\n",
       "      <td>NaN</td>\n",
       "      <td>NaN</td>\n",
       "      <td>NaN</td>\n",
       "      <td>NaN</td>\n",
       "      <td>NaN</td>\n",
       "      <td>NaN</td>\n",
       "      <td>NaN</td>\n",
       "      <td>NaN</td>\n",
       "      <td>NaN</td>\n",
       "    </tr>\n",
       "  </tbody>\n",
       "</table>\n",
       "<p>5 rows × 77 columns</p>\n",
       "</div>"
      ],
      "text/plain": [
       "   id  country_id  league_id     season  stage                 date  \\\n",
       "0   1           1          1  2008/2009      1  2008-08-17 00:00:00   \n",
       "1   2           1          1  2008/2009      1  2008-08-16 00:00:00   \n",
       "2   3           1          1  2008/2009      1  2008-08-16 00:00:00   \n",
       "3   4           1          1  2008/2009      1  2008-08-17 00:00:00   \n",
       "4   5           1          1  2008/2009      1  2008-08-16 00:00:00   \n",
       "\n",
       "   match_api_id  home_team_api_id  away_team_api_id  home_team_goal  ...  \\\n",
       "0        492473              9987              9993               1  ...   \n",
       "1        492474             10000              9994               0  ...   \n",
       "2        492475              9984              8635               0  ...   \n",
       "3        492476              9991              9998               5  ...   \n",
       "4        492477              7947              9985               1  ...   \n",
       "\n",
       "   away_player_2  away_player_3  away_player_4  away_player_5  away_player_6  \\\n",
       "0            NaN            NaN            NaN            NaN            NaN   \n",
       "1            NaN            NaN            NaN            NaN            NaN   \n",
       "2            NaN            NaN            NaN            NaN            NaN   \n",
       "3            NaN            NaN            NaN            NaN            NaN   \n",
       "4            NaN            NaN            NaN            NaN            NaN   \n",
       "\n",
       "   away_player_7  away_player_8  away_player_9  away_player_10  away_player_11  \n",
       "0            NaN            NaN            NaN             NaN             NaN  \n",
       "1            NaN            NaN            NaN             NaN             NaN  \n",
       "2            NaN            NaN            NaN             NaN             NaN  \n",
       "3            NaN            NaN            NaN             NaN             NaN  \n",
       "4            NaN            NaN            NaN             NaN             NaN  \n",
       "\n",
       "[5 rows x 77 columns]"
      ]
     },
     "execution_count": 15,
     "metadata": {},
     "output_type": "execute_result"
    }
   ],
   "source": [
    "df_match.head()"
   ]
  },
  {
   "cell_type": "code",
   "execution_count": 16,
   "metadata": {
    "ExecuteTime": {
     "end_time": "2021-07-25T10:21:55.028869Z",
     "start_time": "2021-07-25T10:21:54.999947Z"
    }
   },
   "outputs": [
    {
     "data": {
      "text/html": [
       "<div>\n",
       "<style scoped>\n",
       "    .dataframe tbody tr th:only-of-type {\n",
       "        vertical-align: middle;\n",
       "    }\n",
       "\n",
       "    .dataframe tbody tr th {\n",
       "        vertical-align: top;\n",
       "    }\n",
       "\n",
       "    .dataframe thead th {\n",
       "        text-align: right;\n",
       "    }\n",
       "</style>\n",
       "<table border=\"1\" class=\"dataframe\">\n",
       "  <thead>\n",
       "    <tr style=\"text-align: right;\">\n",
       "      <th></th>\n",
       "      <th>id</th>\n",
       "      <th>player_api_id</th>\n",
       "      <th>player_name</th>\n",
       "      <th>player_fifa_api_id</th>\n",
       "      <th>birthday</th>\n",
       "      <th>height</th>\n",
       "      <th>weight</th>\n",
       "    </tr>\n",
       "  </thead>\n",
       "  <tbody>\n",
       "    <tr>\n",
       "      <th>0</th>\n",
       "      <td>1</td>\n",
       "      <td>505942</td>\n",
       "      <td>Aaron Appindangoye</td>\n",
       "      <td>218353</td>\n",
       "      <td>1992-02-29 00:00:00</td>\n",
       "      <td>182.88</td>\n",
       "      <td>187</td>\n",
       "    </tr>\n",
       "    <tr>\n",
       "      <th>1</th>\n",
       "      <td>2</td>\n",
       "      <td>155782</td>\n",
       "      <td>Aaron Cresswell</td>\n",
       "      <td>189615</td>\n",
       "      <td>1989-12-15 00:00:00</td>\n",
       "      <td>170.18</td>\n",
       "      <td>146</td>\n",
       "    </tr>\n",
       "    <tr>\n",
       "      <th>2</th>\n",
       "      <td>3</td>\n",
       "      <td>162549</td>\n",
       "      <td>Aaron Doran</td>\n",
       "      <td>186170</td>\n",
       "      <td>1991-05-13 00:00:00</td>\n",
       "      <td>170.18</td>\n",
       "      <td>163</td>\n",
       "    </tr>\n",
       "    <tr>\n",
       "      <th>3</th>\n",
       "      <td>4</td>\n",
       "      <td>30572</td>\n",
       "      <td>Aaron Galindo</td>\n",
       "      <td>140161</td>\n",
       "      <td>1982-05-08 00:00:00</td>\n",
       "      <td>182.88</td>\n",
       "      <td>198</td>\n",
       "    </tr>\n",
       "    <tr>\n",
       "      <th>4</th>\n",
       "      <td>5</td>\n",
       "      <td>23780</td>\n",
       "      <td>Aaron Hughes</td>\n",
       "      <td>17725</td>\n",
       "      <td>1979-11-08 00:00:00</td>\n",
       "      <td>182.88</td>\n",
       "      <td>154</td>\n",
       "    </tr>\n",
       "  </tbody>\n",
       "</table>\n",
       "</div>"
      ],
      "text/plain": [
       "   id  player_api_id         player_name  player_fifa_api_id  \\\n",
       "0   1         505942  Aaron Appindangoye              218353   \n",
       "1   2         155782     Aaron Cresswell              189615   \n",
       "2   3         162549         Aaron Doran              186170   \n",
       "3   4          30572       Aaron Galindo              140161   \n",
       "4   5          23780        Aaron Hughes               17725   \n",
       "\n",
       "              birthday  height  weight  \n",
       "0  1992-02-29 00:00:00  182.88     187  \n",
       "1  1989-12-15 00:00:00  170.18     146  \n",
       "2  1991-05-13 00:00:00  170.18     163  \n",
       "3  1982-05-08 00:00:00  182.88     198  \n",
       "4  1979-11-08 00:00:00  182.88     154  "
      ]
     },
     "execution_count": 16,
     "metadata": {},
     "output_type": "execute_result"
    }
   ],
   "source": [
    "df_player.head()"
   ]
  },
  {
   "cell_type": "code",
   "execution_count": 17,
   "metadata": {
    "ExecuteTime": {
     "end_time": "2021-07-25T10:21:55.089794Z",
     "start_time": "2021-07-25T10:21:55.031861Z"
    }
   },
   "outputs": [
    {
     "data": {
      "text/html": [
       "<div>\n",
       "<style scoped>\n",
       "    .dataframe tbody tr th:only-of-type {\n",
       "        vertical-align: middle;\n",
       "    }\n",
       "\n",
       "    .dataframe tbody tr th {\n",
       "        vertical-align: top;\n",
       "    }\n",
       "\n",
       "    .dataframe thead th {\n",
       "        text-align: right;\n",
       "    }\n",
       "</style>\n",
       "<table border=\"1\" class=\"dataframe\">\n",
       "  <thead>\n",
       "    <tr style=\"text-align: right;\">\n",
       "      <th></th>\n",
       "      <th>id</th>\n",
       "      <th>player_fifa_api_id</th>\n",
       "      <th>player_api_id</th>\n",
       "      <th>date</th>\n",
       "      <th>overall_rating</th>\n",
       "      <th>potential</th>\n",
       "      <th>preferred_foot</th>\n",
       "      <th>attacking_work_rate</th>\n",
       "      <th>defensive_work_rate</th>\n",
       "      <th>crossing</th>\n",
       "      <th>...</th>\n",
       "      <th>vision</th>\n",
       "      <th>penalties</th>\n",
       "      <th>marking</th>\n",
       "      <th>standing_tackle</th>\n",
       "      <th>sliding_tackle</th>\n",
       "      <th>gk_diving</th>\n",
       "      <th>gk_handling</th>\n",
       "      <th>gk_kicking</th>\n",
       "      <th>gk_positioning</th>\n",
       "      <th>gk_reflexes</th>\n",
       "    </tr>\n",
       "  </thead>\n",
       "  <tbody>\n",
       "    <tr>\n",
       "      <th>0</th>\n",
       "      <td>1</td>\n",
       "      <td>218353</td>\n",
       "      <td>505942</td>\n",
       "      <td>2016-02-18 00:00:00</td>\n",
       "      <td>67.0</td>\n",
       "      <td>71.0</td>\n",
       "      <td>right</td>\n",
       "      <td>medium</td>\n",
       "      <td>medium</td>\n",
       "      <td>49.0</td>\n",
       "      <td>...</td>\n",
       "      <td>54.0</td>\n",
       "      <td>48.0</td>\n",
       "      <td>65.0</td>\n",
       "      <td>69.0</td>\n",
       "      <td>69.0</td>\n",
       "      <td>6.0</td>\n",
       "      <td>11.0</td>\n",
       "      <td>10.0</td>\n",
       "      <td>8.0</td>\n",
       "      <td>8.0</td>\n",
       "    </tr>\n",
       "    <tr>\n",
       "      <th>1</th>\n",
       "      <td>2</td>\n",
       "      <td>218353</td>\n",
       "      <td>505942</td>\n",
       "      <td>2015-11-19 00:00:00</td>\n",
       "      <td>67.0</td>\n",
       "      <td>71.0</td>\n",
       "      <td>right</td>\n",
       "      <td>medium</td>\n",
       "      <td>medium</td>\n",
       "      <td>49.0</td>\n",
       "      <td>...</td>\n",
       "      <td>54.0</td>\n",
       "      <td>48.0</td>\n",
       "      <td>65.0</td>\n",
       "      <td>69.0</td>\n",
       "      <td>69.0</td>\n",
       "      <td>6.0</td>\n",
       "      <td>11.0</td>\n",
       "      <td>10.0</td>\n",
       "      <td>8.0</td>\n",
       "      <td>8.0</td>\n",
       "    </tr>\n",
       "    <tr>\n",
       "      <th>2</th>\n",
       "      <td>3</td>\n",
       "      <td>218353</td>\n",
       "      <td>505942</td>\n",
       "      <td>2015-09-21 00:00:00</td>\n",
       "      <td>62.0</td>\n",
       "      <td>66.0</td>\n",
       "      <td>right</td>\n",
       "      <td>medium</td>\n",
       "      <td>medium</td>\n",
       "      <td>49.0</td>\n",
       "      <td>...</td>\n",
       "      <td>54.0</td>\n",
       "      <td>48.0</td>\n",
       "      <td>65.0</td>\n",
       "      <td>66.0</td>\n",
       "      <td>69.0</td>\n",
       "      <td>6.0</td>\n",
       "      <td>11.0</td>\n",
       "      <td>10.0</td>\n",
       "      <td>8.0</td>\n",
       "      <td>8.0</td>\n",
       "    </tr>\n",
       "    <tr>\n",
       "      <th>3</th>\n",
       "      <td>4</td>\n",
       "      <td>218353</td>\n",
       "      <td>505942</td>\n",
       "      <td>2015-03-20 00:00:00</td>\n",
       "      <td>61.0</td>\n",
       "      <td>65.0</td>\n",
       "      <td>right</td>\n",
       "      <td>medium</td>\n",
       "      <td>medium</td>\n",
       "      <td>48.0</td>\n",
       "      <td>...</td>\n",
       "      <td>53.0</td>\n",
       "      <td>47.0</td>\n",
       "      <td>62.0</td>\n",
       "      <td>63.0</td>\n",
       "      <td>66.0</td>\n",
       "      <td>5.0</td>\n",
       "      <td>10.0</td>\n",
       "      <td>9.0</td>\n",
       "      <td>7.0</td>\n",
       "      <td>7.0</td>\n",
       "    </tr>\n",
       "    <tr>\n",
       "      <th>4</th>\n",
       "      <td>5</td>\n",
       "      <td>218353</td>\n",
       "      <td>505942</td>\n",
       "      <td>2007-02-22 00:00:00</td>\n",
       "      <td>61.0</td>\n",
       "      <td>65.0</td>\n",
       "      <td>right</td>\n",
       "      <td>medium</td>\n",
       "      <td>medium</td>\n",
       "      <td>48.0</td>\n",
       "      <td>...</td>\n",
       "      <td>53.0</td>\n",
       "      <td>47.0</td>\n",
       "      <td>62.0</td>\n",
       "      <td>63.0</td>\n",
       "      <td>66.0</td>\n",
       "      <td>5.0</td>\n",
       "      <td>10.0</td>\n",
       "      <td>9.0</td>\n",
       "      <td>7.0</td>\n",
       "      <td>7.0</td>\n",
       "    </tr>\n",
       "  </tbody>\n",
       "</table>\n",
       "<p>5 rows × 42 columns</p>\n",
       "</div>"
      ],
      "text/plain": [
       "   id  player_fifa_api_id  player_api_id                 date  overall_rating  \\\n",
       "0   1              218353         505942  2016-02-18 00:00:00            67.0   \n",
       "1   2              218353         505942  2015-11-19 00:00:00            67.0   \n",
       "2   3              218353         505942  2015-09-21 00:00:00            62.0   \n",
       "3   4              218353         505942  2015-03-20 00:00:00            61.0   \n",
       "4   5              218353         505942  2007-02-22 00:00:00            61.0   \n",
       "\n",
       "   potential preferred_foot attacking_work_rate defensive_work_rate  crossing  \\\n",
       "0       71.0          right              medium              medium      49.0   \n",
       "1       71.0          right              medium              medium      49.0   \n",
       "2       66.0          right              medium              medium      49.0   \n",
       "3       65.0          right              medium              medium      48.0   \n",
       "4       65.0          right              medium              medium      48.0   \n",
       "\n",
       "   ...  vision  penalties  marking  standing_tackle  sliding_tackle  \\\n",
       "0  ...    54.0       48.0     65.0             69.0            69.0   \n",
       "1  ...    54.0       48.0     65.0             69.0            69.0   \n",
       "2  ...    54.0       48.0     65.0             66.0            69.0   \n",
       "3  ...    53.0       47.0     62.0             63.0            66.0   \n",
       "4  ...    53.0       47.0     62.0             63.0            66.0   \n",
       "\n",
       "   gk_diving  gk_handling  gk_kicking  gk_positioning  gk_reflexes  \n",
       "0        6.0         11.0        10.0             8.0          8.0  \n",
       "1        6.0         11.0        10.0             8.0          8.0  \n",
       "2        6.0         11.0        10.0             8.0          8.0  \n",
       "3        5.0         10.0         9.0             7.0          7.0  \n",
       "4        5.0         10.0         9.0             7.0          7.0  \n",
       "\n",
       "[5 rows x 42 columns]"
      ]
     },
     "execution_count": 17,
     "metadata": {},
     "output_type": "execute_result"
    }
   ],
   "source": [
    "df_player_att.head()"
   ]
  },
  {
   "cell_type": "code",
   "execution_count": 18,
   "metadata": {
    "ExecuteTime": {
     "end_time": "2021-07-25T10:21:55.121673Z",
     "start_time": "2021-07-25T10:21:55.093785Z"
    }
   },
   "outputs": [
    {
     "data": {
      "text/html": [
       "<div>\n",
       "<style scoped>\n",
       "    .dataframe tbody tr th:only-of-type {\n",
       "        vertical-align: middle;\n",
       "    }\n",
       "\n",
       "    .dataframe tbody tr th {\n",
       "        vertical-align: top;\n",
       "    }\n",
       "\n",
       "    .dataframe thead th {\n",
       "        text-align: right;\n",
       "    }\n",
       "</style>\n",
       "<table border=\"1\" class=\"dataframe\">\n",
       "  <thead>\n",
       "    <tr style=\"text-align: right;\">\n",
       "      <th></th>\n",
       "      <th>id</th>\n",
       "      <th>team_api_id</th>\n",
       "      <th>team_fifa_api_id</th>\n",
       "      <th>team_long_name</th>\n",
       "      <th>team_short_name</th>\n",
       "    </tr>\n",
       "  </thead>\n",
       "  <tbody>\n",
       "    <tr>\n",
       "      <th>0</th>\n",
       "      <td>1</td>\n",
       "      <td>9987</td>\n",
       "      <td>673.0</td>\n",
       "      <td>KRC Genk</td>\n",
       "      <td>GEN</td>\n",
       "    </tr>\n",
       "    <tr>\n",
       "      <th>1</th>\n",
       "      <td>2</td>\n",
       "      <td>9993</td>\n",
       "      <td>675.0</td>\n",
       "      <td>Beerschot AC</td>\n",
       "      <td>BAC</td>\n",
       "    </tr>\n",
       "    <tr>\n",
       "      <th>2</th>\n",
       "      <td>3</td>\n",
       "      <td>10000</td>\n",
       "      <td>15005.0</td>\n",
       "      <td>SV Zulte-Waregem</td>\n",
       "      <td>ZUL</td>\n",
       "    </tr>\n",
       "    <tr>\n",
       "      <th>3</th>\n",
       "      <td>4</td>\n",
       "      <td>9994</td>\n",
       "      <td>2007.0</td>\n",
       "      <td>Sporting Lokeren</td>\n",
       "      <td>LOK</td>\n",
       "    </tr>\n",
       "    <tr>\n",
       "      <th>4</th>\n",
       "      <td>5</td>\n",
       "      <td>9984</td>\n",
       "      <td>1750.0</td>\n",
       "      <td>KSV Cercle Brugge</td>\n",
       "      <td>CEB</td>\n",
       "    </tr>\n",
       "  </tbody>\n",
       "</table>\n",
       "</div>"
      ],
      "text/plain": [
       "   id  team_api_id  team_fifa_api_id     team_long_name team_short_name\n",
       "0   1         9987             673.0           KRC Genk             GEN\n",
       "1   2         9993             675.0       Beerschot AC             BAC\n",
       "2   3        10000           15005.0   SV Zulte-Waregem             ZUL\n",
       "3   4         9994            2007.0   Sporting Lokeren             LOK\n",
       "4   5         9984            1750.0  KSV Cercle Brugge             CEB"
      ]
     },
     "execution_count": 18,
     "metadata": {},
     "output_type": "execute_result"
    }
   ],
   "source": [
    "df_team.head()"
   ]
  },
  {
   "cell_type": "code",
   "execution_count": 19,
   "metadata": {
    "ExecuteTime": {
     "end_time": "2021-07-25T10:21:55.185453Z",
     "start_time": "2021-07-25T10:21:55.125611Z"
    }
   },
   "outputs": [
    {
     "data": {
      "text/html": [
       "<div>\n",
       "<style scoped>\n",
       "    .dataframe tbody tr th:only-of-type {\n",
       "        vertical-align: middle;\n",
       "    }\n",
       "\n",
       "    .dataframe tbody tr th {\n",
       "        vertical-align: top;\n",
       "    }\n",
       "\n",
       "    .dataframe thead th {\n",
       "        text-align: right;\n",
       "    }\n",
       "</style>\n",
       "<table border=\"1\" class=\"dataframe\">\n",
       "  <thead>\n",
       "    <tr style=\"text-align: right;\">\n",
       "      <th></th>\n",
       "      <th>id</th>\n",
       "      <th>team_fifa_api_id</th>\n",
       "      <th>team_api_id</th>\n",
       "      <th>date</th>\n",
       "      <th>buildUpPlaySpeed</th>\n",
       "      <th>buildUpPlaySpeedClass</th>\n",
       "      <th>buildUpPlayDribbling</th>\n",
       "      <th>buildUpPlayDribblingClass</th>\n",
       "      <th>buildUpPlayPassing</th>\n",
       "      <th>buildUpPlayPassingClass</th>\n",
       "      <th>...</th>\n",
       "      <th>chanceCreationShooting</th>\n",
       "      <th>chanceCreationShootingClass</th>\n",
       "      <th>chanceCreationPositioningClass</th>\n",
       "      <th>defencePressure</th>\n",
       "      <th>defencePressureClass</th>\n",
       "      <th>defenceAggression</th>\n",
       "      <th>defenceAggressionClass</th>\n",
       "      <th>defenceTeamWidth</th>\n",
       "      <th>defenceTeamWidthClass</th>\n",
       "      <th>defenceDefenderLineClass</th>\n",
       "    </tr>\n",
       "  </thead>\n",
       "  <tbody>\n",
       "    <tr>\n",
       "      <th>0</th>\n",
       "      <td>1</td>\n",
       "      <td>434</td>\n",
       "      <td>9930</td>\n",
       "      <td>2010-02-22 00:00:00</td>\n",
       "      <td>60</td>\n",
       "      <td>Balanced</td>\n",
       "      <td>NaN</td>\n",
       "      <td>Little</td>\n",
       "      <td>50</td>\n",
       "      <td>Mixed</td>\n",
       "      <td>...</td>\n",
       "      <td>55</td>\n",
       "      <td>Normal</td>\n",
       "      <td>Organised</td>\n",
       "      <td>50</td>\n",
       "      <td>Medium</td>\n",
       "      <td>55</td>\n",
       "      <td>Press</td>\n",
       "      <td>45</td>\n",
       "      <td>Normal</td>\n",
       "      <td>Cover</td>\n",
       "    </tr>\n",
       "    <tr>\n",
       "      <th>1</th>\n",
       "      <td>2</td>\n",
       "      <td>434</td>\n",
       "      <td>9930</td>\n",
       "      <td>2014-09-19 00:00:00</td>\n",
       "      <td>52</td>\n",
       "      <td>Balanced</td>\n",
       "      <td>48.0</td>\n",
       "      <td>Normal</td>\n",
       "      <td>56</td>\n",
       "      <td>Mixed</td>\n",
       "      <td>...</td>\n",
       "      <td>64</td>\n",
       "      <td>Normal</td>\n",
       "      <td>Organised</td>\n",
       "      <td>47</td>\n",
       "      <td>Medium</td>\n",
       "      <td>44</td>\n",
       "      <td>Press</td>\n",
       "      <td>54</td>\n",
       "      <td>Normal</td>\n",
       "      <td>Cover</td>\n",
       "    </tr>\n",
       "    <tr>\n",
       "      <th>2</th>\n",
       "      <td>3</td>\n",
       "      <td>434</td>\n",
       "      <td>9930</td>\n",
       "      <td>2015-09-10 00:00:00</td>\n",
       "      <td>47</td>\n",
       "      <td>Balanced</td>\n",
       "      <td>41.0</td>\n",
       "      <td>Normal</td>\n",
       "      <td>54</td>\n",
       "      <td>Mixed</td>\n",
       "      <td>...</td>\n",
       "      <td>64</td>\n",
       "      <td>Normal</td>\n",
       "      <td>Organised</td>\n",
       "      <td>47</td>\n",
       "      <td>Medium</td>\n",
       "      <td>44</td>\n",
       "      <td>Press</td>\n",
       "      <td>54</td>\n",
       "      <td>Normal</td>\n",
       "      <td>Cover</td>\n",
       "    </tr>\n",
       "    <tr>\n",
       "      <th>3</th>\n",
       "      <td>4</td>\n",
       "      <td>77</td>\n",
       "      <td>8485</td>\n",
       "      <td>2010-02-22 00:00:00</td>\n",
       "      <td>70</td>\n",
       "      <td>Fast</td>\n",
       "      <td>NaN</td>\n",
       "      <td>Little</td>\n",
       "      <td>70</td>\n",
       "      <td>Long</td>\n",
       "      <td>...</td>\n",
       "      <td>70</td>\n",
       "      <td>Lots</td>\n",
       "      <td>Organised</td>\n",
       "      <td>60</td>\n",
       "      <td>Medium</td>\n",
       "      <td>70</td>\n",
       "      <td>Double</td>\n",
       "      <td>70</td>\n",
       "      <td>Wide</td>\n",
       "      <td>Cover</td>\n",
       "    </tr>\n",
       "    <tr>\n",
       "      <th>4</th>\n",
       "      <td>5</td>\n",
       "      <td>77</td>\n",
       "      <td>8485</td>\n",
       "      <td>2011-02-22 00:00:00</td>\n",
       "      <td>47</td>\n",
       "      <td>Balanced</td>\n",
       "      <td>NaN</td>\n",
       "      <td>Little</td>\n",
       "      <td>52</td>\n",
       "      <td>Mixed</td>\n",
       "      <td>...</td>\n",
       "      <td>52</td>\n",
       "      <td>Normal</td>\n",
       "      <td>Organised</td>\n",
       "      <td>47</td>\n",
       "      <td>Medium</td>\n",
       "      <td>47</td>\n",
       "      <td>Press</td>\n",
       "      <td>52</td>\n",
       "      <td>Normal</td>\n",
       "      <td>Cover</td>\n",
       "    </tr>\n",
       "  </tbody>\n",
       "</table>\n",
       "<p>5 rows × 25 columns</p>\n",
       "</div>"
      ],
      "text/plain": [
       "   id  team_fifa_api_id  team_api_id                 date  buildUpPlaySpeed  \\\n",
       "0   1               434         9930  2010-02-22 00:00:00                60   \n",
       "1   2               434         9930  2014-09-19 00:00:00                52   \n",
       "2   3               434         9930  2015-09-10 00:00:00                47   \n",
       "3   4                77         8485  2010-02-22 00:00:00                70   \n",
       "4   5                77         8485  2011-02-22 00:00:00                47   \n",
       "\n",
       "  buildUpPlaySpeedClass  buildUpPlayDribbling buildUpPlayDribblingClass  \\\n",
       "0              Balanced                   NaN                    Little   \n",
       "1              Balanced                  48.0                    Normal   \n",
       "2              Balanced                  41.0                    Normal   \n",
       "3                  Fast                   NaN                    Little   \n",
       "4              Balanced                   NaN                    Little   \n",
       "\n",
       "   buildUpPlayPassing buildUpPlayPassingClass  ... chanceCreationShooting  \\\n",
       "0                  50                   Mixed  ...                     55   \n",
       "1                  56                   Mixed  ...                     64   \n",
       "2                  54                   Mixed  ...                     64   \n",
       "3                  70                    Long  ...                     70   \n",
       "4                  52                   Mixed  ...                     52   \n",
       "\n",
       "   chanceCreationShootingClass chanceCreationPositioningClass  \\\n",
       "0                       Normal                      Organised   \n",
       "1                       Normal                      Organised   \n",
       "2                       Normal                      Organised   \n",
       "3                         Lots                      Organised   \n",
       "4                       Normal                      Organised   \n",
       "\n",
       "   defencePressure defencePressureClass  defenceAggression  \\\n",
       "0               50               Medium                 55   \n",
       "1               47               Medium                 44   \n",
       "2               47               Medium                 44   \n",
       "3               60               Medium                 70   \n",
       "4               47               Medium                 47   \n",
       "\n",
       "  defenceAggressionClass defenceTeamWidth  defenceTeamWidthClass  \\\n",
       "0                  Press               45                 Normal   \n",
       "1                  Press               54                 Normal   \n",
       "2                  Press               54                 Normal   \n",
       "3                 Double               70                   Wide   \n",
       "4                  Press               52                 Normal   \n",
       "\n",
       "  defenceDefenderLineClass  \n",
       "0                    Cover  \n",
       "1                    Cover  \n",
       "2                    Cover  \n",
       "3                    Cover  \n",
       "4                    Cover  \n",
       "\n",
       "[5 rows x 25 columns]"
      ]
     },
     "execution_count": 19,
     "metadata": {},
     "output_type": "execute_result"
    }
   ],
   "source": [
    "df_team_att.head()"
   ]
  },
  {
   "cell_type": "markdown",
   "metadata": {
    "id": "HGHvPwkNtXgj"
   },
   "source": [
    "### 문제 5. 데이터프레임간의 관계 파악하기\n"
   ]
  },
  {
   "cell_type": "code",
   "execution_count": 20,
   "metadata": {
    "ExecuteTime": {
     "end_time": "2021-07-25T10:21:55.217519Z",
     "start_time": "2021-07-25T10:21:55.188444Z"
    },
    "id": "b_zcrUDF7khF"
   },
   "outputs": [
    {
     "data": {
      "text/plain": [
       "210278    56\n",
       "41269     56\n",
       "42116     55\n",
       "26472     54\n",
       "41890     53\n",
       "          ..\n",
       "699362     2\n",
       "458810     2\n",
       "522771     2\n",
       "26568      2\n",
       "73299      2\n",
       "Name: player_api_id, Length: 11060, dtype: int64"
      ]
     },
     "execution_count": 20,
     "metadata": {},
     "output_type": "execute_result"
    }
   ],
   "source": [
    "# 데이터프레임 간 중복되는 Column이 있는지 확인하고 유용한 Column 식별하기\n",
    "# Hint) unique()로 값을 비교하거나, map() 등을 활용하여 Column 관계를 확인\n",
    "df_player_att['player_api_id'].value_counts()\n"
   ]
  },
  {
   "cell_type": "code",
   "execution_count": 21,
   "metadata": {
    "ExecuteTime": {
     "end_time": "2021-07-25T10:21:55.406858Z",
     "start_time": "2021-07-25T10:21:55.220361Z"
    }
   },
   "outputs": [
    {
     "data": {
      "text/plain": [
       "0"
      ]
     },
     "execution_count": 21,
     "metadata": {},
     "output_type": "execute_result"
    }
   ],
   "source": [
    "df_match['home_player_1'].dropna().apply(int).map(df_player_att.groupby('player_api_id').mean()['overall_rating']).isna().sum()"
   ]
  },
  {
   "cell_type": "code",
   "execution_count": 22,
   "metadata": {
    "ExecuteTime": {
     "end_time": "2021-07-25T10:21:55.422823Z",
     "start_time": "2021-07-25T10:21:55.409852Z"
    }
   },
   "outputs": [
    {
     "data": {
      "text/plain": [
       "8194    6\n",
       "9836    6\n",
       "9788    6\n",
       "9789    6\n",
       "9790    6\n",
       "       ..\n",
       "8262    1\n",
       "8596    1\n",
       "6547    1\n",
       "9824    1\n",
       "8457    1\n",
       "Name: team_api_id, Length: 288, dtype: int64"
      ]
     },
     "execution_count": 22,
     "metadata": {},
     "output_type": "execute_result"
    }
   ],
   "source": [
    "df_team_att['team_api_id'].value_counts()"
   ]
  },
  {
   "cell_type": "code",
   "execution_count": 23,
   "metadata": {
    "ExecuteTime": {
     "end_time": "2021-07-25T10:21:55.470688Z",
     "start_time": "2021-07-25T10:21:55.437776Z"
    }
   },
   "outputs": [
    {
     "data": {
      "text/plain": [
       "178"
      ]
     },
     "execution_count": 23,
     "metadata": {},
     "output_type": "execute_result"
    }
   ],
   "source": [
    "df_match['away_team_api_id'].map(df_team_att.groupby('team_api_id').mean()['buildUpPlaySpeed']).isna().sum()"
   ]
  },
  {
   "cell_type": "markdown",
   "metadata": {
    "id": "amkU5Y6g7Dp4"
   },
   "source": [
    "### 문제 6. 선수 특성 사이의 상관성 파악하기"
   ]
  },
  {
   "cell_type": "code",
   "execution_count": 24,
   "metadata": {
    "ExecuteTime": {
     "end_time": "2021-07-25T10:22:01.450755Z",
     "start_time": "2021-07-25T10:21:55.478668Z"
    },
    "id": "GZXSBFPyDh6R"
   },
   "outputs": [
    {
     "data": {
      "text/plain": [
       "<AxesSubplot:>"
      ]
     },
     "execution_count": 24,
     "metadata": {},
     "output_type": "execute_result"
    },
    {
     "data": {
      "image/png": "[encoded data removed]",
      "text/plain": [
       "<Figure size 360x1080 with 2 Axes>"
      ]
     },
     "metadata": {
      "needs_background": "light"
     },
     "output_type": "display_data"
    }
   ],
   "source": [
    "# DataFrame의 corr() 메소드와 Seaborn의 heatmap() 메소드를 이용하여 Pearson's correlation 시각화하기\n",
    "\n",
    "flg = plt.figure(figsize=(5, 15))\n",
    "\n",
    "sns.heatmap(df_player_att.drop(['id', 'player_fifa_api_id', 'player_api_id'], axis=1).corr()[\n",
    "            ['overall_rating']], annot=True)"
   ]
  },
  {
   "cell_type": "markdown",
   "metadata": {
    "id": "KywGh9sjtYl9"
   },
   "source": [
    "### 문제 7. 매치 데이터프레임에 팀 특성 데이터프레임 통합하기\n"
   ]
  },
  {
   "cell_type": "code",
   "execution_count": 25,
   "metadata": {
    "ExecuteTime": {
     "end_time": "2021-07-25T10:22:01.481708Z",
     "start_time": "2021-07-25T10:22:01.456778Z"
    },
    "id": "TqXkwW8JDxhH"
   },
   "outputs": [
    {
     "data": {
      "text/plain": [
       "Index(['id', 'team_fifa_api_id', 'team_api_id', 'date', 'buildUpPlaySpeed',\n",
       "       'buildUpPlaySpeedClass', 'buildUpPlayDribbling',\n",
       "       'buildUpPlayDribblingClass', 'buildUpPlayPassing',\n",
       "       'buildUpPlayPassingClass', 'buildUpPlayPositioningClass',\n",
       "       'chanceCreationPassing', 'chanceCreationPassingClass',\n",
       "       'chanceCreationCrossing', 'chanceCreationCrossingClass',\n",
       "       'chanceCreationShooting', 'chanceCreationShootingClass',\n",
       "       'chanceCreationPositioningClass', 'defencePressure',\n",
       "       'defencePressureClass', 'defenceAggression', 'defenceAggressionClass',\n",
       "       'defenceTeamWidth', 'defenceTeamWidthClass',\n",
       "       'defenceDefenderLineClass'],\n",
       "      dtype='object')"
      ]
     },
     "execution_count": 25,
     "metadata": {},
     "output_type": "execute_result"
    }
   ],
   "source": [
    "# DataFrame의 map() 메소드를 활용하여 데이터프레임 통합하기\n",
    "df_team_att.columns"
   ]
  },
  {
   "cell_type": "code",
   "execution_count": 26,
   "metadata": {
    "ExecuteTime": {
     "end_time": "2021-07-25T10:22:01.529667Z",
     "start_time": "2021-07-25T10:22:01.487658Z"
    }
   },
   "outputs": [
    {
     "name": "stdout",
     "output_type": "stream",
     "text": [
      "<class 'pandas.core.frame.DataFrame'>\n",
      "RangeIndex: 1458 entries, 0 to 1457\n",
      "Data columns (total 25 columns):\n",
      " #   Column                          Non-Null Count  Dtype  \n",
      "---  ------                          --------------  -----  \n",
      " 0   id                              1458 non-null   int64  \n",
      " 1   team_fifa_api_id                1458 non-null   int64  \n",
      " 2   team_api_id                     1458 non-null   int64  \n",
      " 3   date                            1458 non-null   object \n",
      " 4   buildUpPlaySpeed                1458 non-null   int64  \n",
      " 5   buildUpPlaySpeedClass           1458 non-null   object \n",
      " 6   buildUpPlayDribbling            489 non-null    float64\n",
      " 7   buildUpPlayDribblingClass       1458 non-null   object \n",
      " 8   buildUpPlayPassing              1458 non-null   int64  \n",
      " 9   buildUpPlayPassingClass         1458 non-null   object \n",
      " 10  buildUpPlayPositioningClass     1458 non-null   object \n",
      " 11  chanceCreationPassing           1458 non-null   int64  \n",
      " 12  chanceCreationPassingClass      1458 non-null   object \n",
      " 13  chanceCreationCrossing          1458 non-null   int64  \n",
      " 14  chanceCreationCrossingClass     1458 non-null   object \n",
      " 15  chanceCreationShooting          1458 non-null   int64  \n",
      " 16  chanceCreationShootingClass     1458 non-null   object \n",
      " 17  chanceCreationPositioningClass  1458 non-null   object \n",
      " 18  defencePressure                 1458 non-null   int64  \n",
      " 19  defencePressureClass            1458 non-null   object \n",
      " 20  defenceAggression               1458 non-null   int64  \n",
      " 21  defenceAggressionClass          1458 non-null   object \n",
      " 22  defenceTeamWidth                1458 non-null   int64  \n",
      " 23  defenceTeamWidthClass           1458 non-null   object \n",
      " 24  defenceDefenderLineClass        1458 non-null   object \n",
      "dtypes: float64(1), int64(11), object(13)\n",
      "memory usage: 284.9+ KB\n"
     ]
    }
   ],
   "source": [
    "df_team_att.info()"
   ]
  },
  {
   "cell_type": "code",
   "execution_count": 27,
   "metadata": {
    "ExecuteTime": {
     "end_time": "2021-07-25T10:22:01.545585Z",
     "start_time": "2021-07-25T10:22:01.534535Z"
    }
   },
   "outputs": [],
   "source": [
    "df_team_att.drop('buildUpPlayDribbling',axis=1,inplace=True)"
   ]
  },
  {
   "cell_type": "code",
   "execution_count": 28,
   "metadata": {
    "ExecuteTime": {
     "end_time": "2021-07-25T10:22:01.577417Z",
     "start_time": "2021-07-25T10:22:01.551486Z"
    }
   },
   "outputs": [
    {
     "data": {
      "text/plain": [
       "Index(['id', 'team_fifa_api_id', 'team_api_id', 'date', 'buildUpPlaySpeed',\n",
       "       'buildUpPlaySpeedClass', 'buildUpPlayDribblingClass',\n",
       "       'buildUpPlayPassing', 'buildUpPlayPassingClass',\n",
       "       'buildUpPlayPositioningClass', 'chanceCreationPassing',\n",
       "       'chanceCreationPassingClass', 'chanceCreationCrossing',\n",
       "       'chanceCreationCrossingClass', 'chanceCreationShooting',\n",
       "       'chanceCreationShootingClass', 'chanceCreationPositioningClass',\n",
       "       'defencePressure', 'defencePressureClass', 'defenceAggression',\n",
       "       'defenceAggressionClass', 'defenceTeamWidth', 'defenceTeamWidthClass',\n",
       "       'defenceDefenderLineClass'],\n",
       "      dtype='object')"
      ]
     },
     "execution_count": 28,
     "metadata": {},
     "output_type": "execute_result"
    }
   ],
   "source": [
    "df_team_att.columns"
   ]
  },
  {
   "cell_type": "code",
   "execution_count": 29,
   "metadata": {
    "ExecuteTime": {
     "end_time": "2021-07-25T10:22:01.592376Z",
     "start_time": "2021-07-25T10:22:01.581413Z"
    }
   },
   "outputs": [],
   "source": [
    "def most(x):\n",
    "    return x.value_counts().index[0]"
   ]
  },
  {
   "cell_type": "code",
   "execution_count": 30,
   "metadata": {
    "ExecuteTime": {
     "end_time": "2021-07-25T10:22:07.634306Z",
     "start_time": "2021-07-25T10:22:01.597403Z"
    }
   },
   "outputs": [],
   "source": [
    "team_map = df_team_att.groupby('team_api_id').aggregate(\n",
    "    {\n",
    "       'buildUpPlaySpeed': 'mean',\n",
    "       'buildUpPlaySpeedClass': most,\n",
    "       'buildUpPlayDribblingClass': most,\n",
    "       'buildUpPlayPassing': 'mean',\n",
    "       'buildUpPlayPassingClass': most,\n",
    "       'buildUpPlayPositioningClass': most,\n",
    "       'chanceCreationPassing': 'mean',\n",
    "       'chanceCreationPassingClass': most,\n",
    "       'chanceCreationCrossing': 'mean',\n",
    "       'chanceCreationCrossingClass': most,\n",
    "       'chanceCreationShooting': 'mean',\n",
    "       'chanceCreationShootingClass': most,\n",
    "       'chanceCreationPositioningClass': most,\n",
    "       'defencePressure': 'mean',\n",
    "       'defencePressureClass': most,\n",
    "       'defenceAggression': 'mean',\n",
    "       'defenceAggressionClass': most,\n",
    "       'defenceTeamWidth': 'mean',\n",
    "       'defenceTeamWidthClass': most,\n",
    "       'defenceDefenderLineClass': most\n",
    "    }\n",
    ")"
   ]
  },
  {
   "cell_type": "code",
   "execution_count": 31,
   "metadata": {
    "ExecuteTime": {
     "end_time": "2021-07-25T10:22:07.759915Z",
     "start_time": "2021-07-25T10:22:07.638209Z"
    }
   },
   "outputs": [
    {
     "data": {
      "text/html": [
       "<div>\n",
       "<style scoped>\n",
       "    .dataframe tbody tr th:only-of-type {\n",
       "        vertical-align: middle;\n",
       "    }\n",
       "\n",
       "    .dataframe tbody tr th {\n",
       "        vertical-align: top;\n",
       "    }\n",
       "\n",
       "    .dataframe thead th {\n",
       "        text-align: right;\n",
       "    }\n",
       "</style>\n",
       "<table border=\"1\" class=\"dataframe\">\n",
       "  <thead>\n",
       "    <tr style=\"text-align: right;\">\n",
       "      <th></th>\n",
       "      <th>buildUpPlaySpeed</th>\n",
       "      <th>buildUpPlaySpeedClass</th>\n",
       "      <th>buildUpPlayDribblingClass</th>\n",
       "      <th>buildUpPlayPassing</th>\n",
       "      <th>buildUpPlayPassingClass</th>\n",
       "      <th>buildUpPlayPositioningClass</th>\n",
       "      <th>chanceCreationPassing</th>\n",
       "      <th>chanceCreationPassingClass</th>\n",
       "      <th>chanceCreationCrossing</th>\n",
       "      <th>chanceCreationCrossingClass</th>\n",
       "      <th>chanceCreationShooting</th>\n",
       "      <th>chanceCreationShootingClass</th>\n",
       "      <th>chanceCreationPositioningClass</th>\n",
       "      <th>defencePressure</th>\n",
       "      <th>defencePressureClass</th>\n",
       "      <th>defenceAggression</th>\n",
       "      <th>defenceAggressionClass</th>\n",
       "      <th>defenceTeamWidth</th>\n",
       "      <th>defenceTeamWidthClass</th>\n",
       "      <th>defenceDefenderLineClass</th>\n",
       "    </tr>\n",
       "    <tr>\n",
       "      <th>team_api_id</th>\n",
       "      <th></th>\n",
       "      <th></th>\n",
       "      <th></th>\n",
       "      <th></th>\n",
       "      <th></th>\n",
       "      <th></th>\n",
       "      <th></th>\n",
       "      <th></th>\n",
       "      <th></th>\n",
       "      <th></th>\n",
       "      <th></th>\n",
       "      <th></th>\n",
       "      <th></th>\n",
       "      <th></th>\n",
       "      <th></th>\n",
       "      <th></th>\n",
       "      <th></th>\n",
       "      <th></th>\n",
       "      <th></th>\n",
       "      <th></th>\n",
       "    </tr>\n",
       "  </thead>\n",
       "  <tbody>\n",
       "    <tr>\n",
       "      <th>1601</th>\n",
       "      <td>47.333333</td>\n",
       "      <td>Balanced</td>\n",
       "      <td>Little</td>\n",
       "      <td>46.166667</td>\n",
       "      <td>Mixed</td>\n",
       "      <td>Organised</td>\n",
       "      <td>55.500000</td>\n",
       "      <td>Normal</td>\n",
       "      <td>60.333333</td>\n",
       "      <td>Normal</td>\n",
       "      <td>53.500000</td>\n",
       "      <td>Normal</td>\n",
       "      <td>Organised</td>\n",
       "      <td>47.166667</td>\n",
       "      <td>Medium</td>\n",
       "      <td>47.333333</td>\n",
       "      <td>Press</td>\n",
       "      <td>49.333333</td>\n",
       "      <td>Normal</td>\n",
       "      <td>Cover</td>\n",
       "    </tr>\n",
       "    <tr>\n",
       "      <th>1773</th>\n",
       "      <td>52.000000</td>\n",
       "      <td>Balanced</td>\n",
       "      <td>Little</td>\n",
       "      <td>50.000000</td>\n",
       "      <td>Mixed</td>\n",
       "      <td>Organised</td>\n",
       "      <td>50.000000</td>\n",
       "      <td>Normal</td>\n",
       "      <td>53.000000</td>\n",
       "      <td>Normal</td>\n",
       "      <td>54.000000</td>\n",
       "      <td>Normal</td>\n",
       "      <td>Organised</td>\n",
       "      <td>43.000000</td>\n",
       "      <td>Medium</td>\n",
       "      <td>44.000000</td>\n",
       "      <td>Press</td>\n",
       "      <td>50.000000</td>\n",
       "      <td>Normal</td>\n",
       "      <td>Cover</td>\n",
       "    </tr>\n",
       "    <tr>\n",
       "      <th>1957</th>\n",
       "      <td>47.166667</td>\n",
       "      <td>Balanced</td>\n",
       "      <td>Little</td>\n",
       "      <td>52.666667</td>\n",
       "      <td>Mixed</td>\n",
       "      <td>Organised</td>\n",
       "      <td>50.833333</td>\n",
       "      <td>Normal</td>\n",
       "      <td>36.333333</td>\n",
       "      <td>Normal</td>\n",
       "      <td>67.000000</td>\n",
       "      <td>Lots</td>\n",
       "      <td>Organised</td>\n",
       "      <td>49.333333</td>\n",
       "      <td>Medium</td>\n",
       "      <td>56.333333</td>\n",
       "      <td>Press</td>\n",
       "      <td>53.666667</td>\n",
       "      <td>Normal</td>\n",
       "      <td>Cover</td>\n",
       "    </tr>\n",
       "    <tr>\n",
       "      <th>2033</th>\n",
       "      <td>49.000000</td>\n",
       "      <td>Balanced</td>\n",
       "      <td>Little</td>\n",
       "      <td>48.400000</td>\n",
       "      <td>Mixed</td>\n",
       "      <td>Organised</td>\n",
       "      <td>51.800000</td>\n",
       "      <td>Normal</td>\n",
       "      <td>44.200000</td>\n",
       "      <td>Normal</td>\n",
       "      <td>48.200000</td>\n",
       "      <td>Normal</td>\n",
       "      <td>Free Form</td>\n",
       "      <td>42.200000</td>\n",
       "      <td>Medium</td>\n",
       "      <td>33.800000</td>\n",
       "      <td>Contain</td>\n",
       "      <td>45.400000</td>\n",
       "      <td>Normal</td>\n",
       "      <td>Cover</td>\n",
       "    </tr>\n",
       "    <tr>\n",
       "      <th>2182</th>\n",
       "      <td>60.333333</td>\n",
       "      <td>Fast</td>\n",
       "      <td>Little</td>\n",
       "      <td>49.000000</td>\n",
       "      <td>Mixed</td>\n",
       "      <td>Organised</td>\n",
       "      <td>56.666667</td>\n",
       "      <td>Normal</td>\n",
       "      <td>57.333333</td>\n",
       "      <td>Normal</td>\n",
       "      <td>68.000000</td>\n",
       "      <td>Lots</td>\n",
       "      <td>Organised</td>\n",
       "      <td>51.666667</td>\n",
       "      <td>Medium</td>\n",
       "      <td>48.500000</td>\n",
       "      <td>Press</td>\n",
       "      <td>54.500000</td>\n",
       "      <td>Normal</td>\n",
       "      <td>Cover</td>\n",
       "    </tr>\n",
       "    <tr>\n",
       "      <th>...</th>\n",
       "      <td>...</td>\n",
       "      <td>...</td>\n",
       "      <td>...</td>\n",
       "      <td>...</td>\n",
       "      <td>...</td>\n",
       "      <td>...</td>\n",
       "      <td>...</td>\n",
       "      <td>...</td>\n",
       "      <td>...</td>\n",
       "      <td>...</td>\n",
       "      <td>...</td>\n",
       "      <td>...</td>\n",
       "      <td>...</td>\n",
       "      <td>...</td>\n",
       "      <td>...</td>\n",
       "      <td>...</td>\n",
       "      <td>...</td>\n",
       "      <td>...</td>\n",
       "      <td>...</td>\n",
       "      <td>...</td>\n",
       "    </tr>\n",
       "    <tr>\n",
       "      <th>10281</th>\n",
       "      <td>52.833333</td>\n",
       "      <td>Balanced</td>\n",
       "      <td>Little</td>\n",
       "      <td>53.666667</td>\n",
       "      <td>Mixed</td>\n",
       "      <td>Organised</td>\n",
       "      <td>50.333333</td>\n",
       "      <td>Normal</td>\n",
       "      <td>59.166667</td>\n",
       "      <td>Lots</td>\n",
       "      <td>50.333333</td>\n",
       "      <td>Normal</td>\n",
       "      <td>Organised</td>\n",
       "      <td>45.500000</td>\n",
       "      <td>Medium</td>\n",
       "      <td>51.166667</td>\n",
       "      <td>Press</td>\n",
       "      <td>52.666667</td>\n",
       "      <td>Normal</td>\n",
       "      <td>Cover</td>\n",
       "    </tr>\n",
       "    <tr>\n",
       "      <th>108893</th>\n",
       "      <td>43.166667</td>\n",
       "      <td>Balanced</td>\n",
       "      <td>Little</td>\n",
       "      <td>53.166667</td>\n",
       "      <td>Mixed</td>\n",
       "      <td>Organised</td>\n",
       "      <td>46.000000</td>\n",
       "      <td>Normal</td>\n",
       "      <td>38.333333</td>\n",
       "      <td>Normal</td>\n",
       "      <td>39.500000</td>\n",
       "      <td>Normal</td>\n",
       "      <td>Organised</td>\n",
       "      <td>38.333333</td>\n",
       "      <td>Medium</td>\n",
       "      <td>46.000000</td>\n",
       "      <td>Press</td>\n",
       "      <td>46.333333</td>\n",
       "      <td>Normal</td>\n",
       "      <td>Cover</td>\n",
       "    </tr>\n",
       "    <tr>\n",
       "      <th>158085</th>\n",
       "      <td>67.000000</td>\n",
       "      <td>Balanced</td>\n",
       "      <td>Normal</td>\n",
       "      <td>39.000000</td>\n",
       "      <td>Mixed</td>\n",
       "      <td>Organised</td>\n",
       "      <td>55.000000</td>\n",
       "      <td>Normal</td>\n",
       "      <td>59.000000</td>\n",
       "      <td>Normal</td>\n",
       "      <td>46.000000</td>\n",
       "      <td>Normal</td>\n",
       "      <td>Organised</td>\n",
       "      <td>36.000000</td>\n",
       "      <td>Medium</td>\n",
       "      <td>38.000000</td>\n",
       "      <td>Press</td>\n",
       "      <td>37.000000</td>\n",
       "      <td>Normal</td>\n",
       "      <td>Cover</td>\n",
       "    </tr>\n",
       "    <tr>\n",
       "      <th>208931</th>\n",
       "      <td>56.000000</td>\n",
       "      <td>Slow</td>\n",
       "      <td>Normal</td>\n",
       "      <td>48.000000</td>\n",
       "      <td>Short</td>\n",
       "      <td>Organised</td>\n",
       "      <td>58.500000</td>\n",
       "      <td>Risky</td>\n",
       "      <td>38.000000</td>\n",
       "      <td>Normal</td>\n",
       "      <td>52.000000</td>\n",
       "      <td>Normal</td>\n",
       "      <td>Organised</td>\n",
       "      <td>35.500000</td>\n",
       "      <td>Medium</td>\n",
       "      <td>49.500000</td>\n",
       "      <td>Press</td>\n",
       "      <td>43.000000</td>\n",
       "      <td>Normal</td>\n",
       "      <td>Cover</td>\n",
       "    </tr>\n",
       "    <tr>\n",
       "      <th>274581</th>\n",
       "      <td>50.000000</td>\n",
       "      <td>Balanced</td>\n",
       "      <td>Normal</td>\n",
       "      <td>50.000000</td>\n",
       "      <td>Mixed</td>\n",
       "      <td>Organised</td>\n",
       "      <td>50.000000</td>\n",
       "      <td>Normal</td>\n",
       "      <td>50.000000</td>\n",
       "      <td>Normal</td>\n",
       "      <td>50.000000</td>\n",
       "      <td>Normal</td>\n",
       "      <td>Organised</td>\n",
       "      <td>45.000000</td>\n",
       "      <td>Medium</td>\n",
       "      <td>45.000000</td>\n",
       "      <td>Press</td>\n",
       "      <td>50.000000</td>\n",
       "      <td>Normal</td>\n",
       "      <td>Cover</td>\n",
       "    </tr>\n",
       "  </tbody>\n",
       "</table>\n",
       "<p>288 rows × 20 columns</p>\n",
       "</div>"
      ],
      "text/plain": [
       "             buildUpPlaySpeed buildUpPlaySpeedClass buildUpPlayDribblingClass  \\\n",
       "team_api_id                                                                     \n",
       "1601                47.333333              Balanced                    Little   \n",
       "1773                52.000000              Balanced                    Little   \n",
       "1957                47.166667              Balanced                    Little   \n",
       "2033                49.000000              Balanced                    Little   \n",
       "2182                60.333333                  Fast                    Little   \n",
       "...                       ...                   ...                       ...   \n",
       "10281               52.833333              Balanced                    Little   \n",
       "108893              43.166667              Balanced                    Little   \n",
       "158085              67.000000              Balanced                    Normal   \n",
       "208931              56.000000                  Slow                    Normal   \n",
       "274581              50.000000              Balanced                    Normal   \n",
       "\n",
       "             buildUpPlayPassing buildUpPlayPassingClass  \\\n",
       "team_api_id                                               \n",
       "1601                  46.166667                   Mixed   \n",
       "1773                  50.000000                   Mixed   \n",
       "1957                  52.666667                   Mixed   \n",
       "2033                  48.400000                   Mixed   \n",
       "2182                  49.000000                   Mixed   \n",
       "...                         ...                     ...   \n",
       "10281                 53.666667                   Mixed   \n",
       "108893                53.166667                   Mixed   \n",
       "158085                39.000000                   Mixed   \n",
       "208931                48.000000                   Short   \n",
       "274581                50.000000                   Mixed   \n",
       "\n",
       "            buildUpPlayPositioningClass  chanceCreationPassing  \\\n",
       "team_api_id                                                      \n",
       "1601                          Organised              55.500000   \n",
       "1773                          Organised              50.000000   \n",
       "1957                          Organised              50.833333   \n",
       "2033                          Organised              51.800000   \n",
       "2182                          Organised              56.666667   \n",
       "...                                 ...                    ...   \n",
       "10281                         Organised              50.333333   \n",
       "108893                        Organised              46.000000   \n",
       "158085                        Organised              55.000000   \n",
       "208931                        Organised              58.500000   \n",
       "274581                        Organised              50.000000   \n",
       "\n",
       "            chanceCreationPassingClass  chanceCreationCrossing  \\\n",
       "team_api_id                                                      \n",
       "1601                            Normal               60.333333   \n",
       "1773                            Normal               53.000000   \n",
       "1957                            Normal               36.333333   \n",
       "2033                            Normal               44.200000   \n",
       "2182                            Normal               57.333333   \n",
       "...                                ...                     ...   \n",
       "10281                           Normal               59.166667   \n",
       "108893                          Normal               38.333333   \n",
       "158085                          Normal               59.000000   \n",
       "208931                           Risky               38.000000   \n",
       "274581                          Normal               50.000000   \n",
       "\n",
       "            chanceCreationCrossingClass  chanceCreationShooting  \\\n",
       "team_api_id                                                       \n",
       "1601                             Normal               53.500000   \n",
       "1773                             Normal               54.000000   \n",
       "1957                             Normal               67.000000   \n",
       "2033                             Normal               48.200000   \n",
       "2182                             Normal               68.000000   \n",
       "...                                 ...                     ...   \n",
       "10281                              Lots               50.333333   \n",
       "108893                           Normal               39.500000   \n",
       "158085                           Normal               46.000000   \n",
       "208931                           Normal               52.000000   \n",
       "274581                           Normal               50.000000   \n",
       "\n",
       "            chanceCreationShootingClass chanceCreationPositioningClass  \\\n",
       "team_api_id                                                              \n",
       "1601                             Normal                      Organised   \n",
       "1773                             Normal                      Organised   \n",
       "1957                               Lots                      Organised   \n",
       "2033                             Normal                      Free Form   \n",
       "2182                               Lots                      Organised   \n",
       "...                                 ...                            ...   \n",
       "10281                            Normal                      Organised   \n",
       "108893                           Normal                      Organised   \n",
       "158085                           Normal                      Organised   \n",
       "208931                           Normal                      Organised   \n",
       "274581                           Normal                      Organised   \n",
       "\n",
       "             defencePressure defencePressureClass  defenceAggression  \\\n",
       "team_api_id                                                            \n",
       "1601               47.166667               Medium          47.333333   \n",
       "1773               43.000000               Medium          44.000000   \n",
       "1957               49.333333               Medium          56.333333   \n",
       "2033               42.200000               Medium          33.800000   \n",
       "2182               51.666667               Medium          48.500000   \n",
       "...                      ...                  ...                ...   \n",
       "10281              45.500000               Medium          51.166667   \n",
       "108893             38.333333               Medium          46.000000   \n",
       "158085             36.000000               Medium          38.000000   \n",
       "208931             35.500000               Medium          49.500000   \n",
       "274581             45.000000               Medium          45.000000   \n",
       "\n",
       "            defenceAggressionClass  defenceTeamWidth defenceTeamWidthClass  \\\n",
       "team_api_id                                                                  \n",
       "1601                         Press         49.333333                Normal   \n",
       "1773                         Press         50.000000                Normal   \n",
       "1957                         Press         53.666667                Normal   \n",
       "2033                       Contain         45.400000                Normal   \n",
       "2182                         Press         54.500000                Normal   \n",
       "...                            ...               ...                   ...   \n",
       "10281                        Press         52.666667                Normal   \n",
       "108893                       Press         46.333333                Normal   \n",
       "158085                       Press         37.000000                Normal   \n",
       "208931                       Press         43.000000                Normal   \n",
       "274581                       Press         50.000000                Normal   \n",
       "\n",
       "            defenceDefenderLineClass  \n",
       "team_api_id                           \n",
       "1601                           Cover  \n",
       "1773                           Cover  \n",
       "1957                           Cover  \n",
       "2033                           Cover  \n",
       "2182                           Cover  \n",
       "...                              ...  \n",
       "10281                          Cover  \n",
       "108893                         Cover  \n",
       "158085                         Cover  \n",
       "208931                         Cover  \n",
       "274581                         Cover  \n",
       "\n",
       "[288 rows x 20 columns]"
      ]
     },
     "execution_count": 31,
     "metadata": {},
     "output_type": "execute_result"
    }
   ],
   "source": [
    "team_map"
   ]
  },
  {
   "cell_type": "code",
   "execution_count": 32,
   "metadata": {
    "ExecuteTime": {
     "end_time": "2021-07-25T10:22:07.775964Z",
     "start_time": "2021-07-25T10:22:07.762870Z"
    }
   },
   "outputs": [],
   "source": [
    "df = df_match[['home_team_goal','away_team_goal']].copy()"
   ]
  },
  {
   "cell_type": "code",
   "execution_count": 33,
   "metadata": {
    "ExecuteTime": {
     "end_time": "2021-07-25T10:22:07.998246Z",
     "start_time": "2021-07-25T10:22:07.781862Z"
    }
   },
   "outputs": [],
   "source": [
    "for team in ['home_', 'away_']:\n",
    "    team_map.index.name = team + 'team_api_id'\n",
    "    for col in team_map.columns:\n",
    "        df[team+col] = df_match[team_map.index.name].map(team_map[col])"
   ]
  },
  {
   "cell_type": "code",
   "execution_count": 34,
   "metadata": {
    "ExecuteTime": {
     "end_time": "2021-07-25T10:22:08.204691Z",
     "start_time": "2021-07-25T10:22:08.002266Z"
    }
   },
   "outputs": [],
   "source": [
    "df.dropna(inplace=True)"
   ]
  },
  {
   "cell_type": "code",
   "execution_count": 35,
   "metadata": {
    "ExecuteTime": {
     "end_time": "2021-07-25T10:22:08.314467Z",
     "start_time": "2021-07-25T10:22:08.210672Z"
    }
   },
   "outputs": [
    {
     "data": {
      "text/html": [
       "<div>\n",
       "<style scoped>\n",
       "    .dataframe tbody tr th:only-of-type {\n",
       "        vertical-align: middle;\n",
       "    }\n",
       "\n",
       "    .dataframe tbody tr th {\n",
       "        vertical-align: top;\n",
       "    }\n",
       "\n",
       "    .dataframe thead th {\n",
       "        text-align: right;\n",
       "    }\n",
       "</style>\n",
       "<table border=\"1\" class=\"dataframe\">\n",
       "  <thead>\n",
       "    <tr style=\"text-align: right;\">\n",
       "      <th></th>\n",
       "      <th>home_team_goal</th>\n",
       "      <th>away_team_goal</th>\n",
       "      <th>home_buildUpPlaySpeed</th>\n",
       "      <th>home_buildUpPlaySpeedClass</th>\n",
       "      <th>home_buildUpPlayDribblingClass</th>\n",
       "      <th>home_buildUpPlayPassing</th>\n",
       "      <th>home_buildUpPlayPassingClass</th>\n",
       "      <th>home_buildUpPlayPositioningClass</th>\n",
       "      <th>home_chanceCreationPassing</th>\n",
       "      <th>home_chanceCreationPassingClass</th>\n",
       "      <th>...</th>\n",
       "      <th>away_chanceCreationShooting</th>\n",
       "      <th>away_chanceCreationShootingClass</th>\n",
       "      <th>away_chanceCreationPositioningClass</th>\n",
       "      <th>away_defencePressure</th>\n",
       "      <th>away_defencePressureClass</th>\n",
       "      <th>away_defenceAggression</th>\n",
       "      <th>away_defenceAggressionClass</th>\n",
       "      <th>away_defenceTeamWidth</th>\n",
       "      <th>away_defenceTeamWidthClass</th>\n",
       "      <th>away_defenceDefenderLineClass</th>\n",
       "    </tr>\n",
       "  </thead>\n",
       "  <tbody>\n",
       "    <tr>\n",
       "      <th>0</th>\n",
       "      <td>1</td>\n",
       "      <td>1</td>\n",
       "      <td>56.333333</td>\n",
       "      <td>Balanced</td>\n",
       "      <td>Little</td>\n",
       "      <td>44.333333</td>\n",
       "      <td>Mixed</td>\n",
       "      <td>Organised</td>\n",
       "      <td>55.666667</td>\n",
       "      <td>Normal</td>\n",
       "      <td>...</td>\n",
       "      <td>53.750000</td>\n",
       "      <td>Normal</td>\n",
       "      <td>Organised</td>\n",
       "      <td>48.250000</td>\n",
       "      <td>Medium</td>\n",
       "      <td>49.000000</td>\n",
       "      <td>Press</td>\n",
       "      <td>58.750000</td>\n",
       "      <td>Wide</td>\n",
       "      <td>Cover</td>\n",
       "    </tr>\n",
       "    <tr>\n",
       "      <th>1</th>\n",
       "      <td>0</td>\n",
       "      <td>0</td>\n",
       "      <td>55.500000</td>\n",
       "      <td>Balanced</td>\n",
       "      <td>Little</td>\n",
       "      <td>52.666667</td>\n",
       "      <td>Mixed</td>\n",
       "      <td>Organised</td>\n",
       "      <td>50.000000</td>\n",
       "      <td>Normal</td>\n",
       "      <td>...</td>\n",
       "      <td>54.333333</td>\n",
       "      <td>Normal</td>\n",
       "      <td>Organised</td>\n",
       "      <td>48.833333</td>\n",
       "      <td>Medium</td>\n",
       "      <td>55.166667</td>\n",
       "      <td>Press</td>\n",
       "      <td>55.500000</td>\n",
       "      <td>Normal</td>\n",
       "      <td>Cover</td>\n",
       "    </tr>\n",
       "    <tr>\n",
       "      <th>2</th>\n",
       "      <td>0</td>\n",
       "      <td>3</td>\n",
       "      <td>53.666667</td>\n",
       "      <td>Balanced</td>\n",
       "      <td>Little</td>\n",
       "      <td>44.166667</td>\n",
       "      <td>Mixed</td>\n",
       "      <td>Organised</td>\n",
       "      <td>59.000000</td>\n",
       "      <td>Normal</td>\n",
       "      <td>...</td>\n",
       "      <td>51.333333</td>\n",
       "      <td>Normal</td>\n",
       "      <td>Organised</td>\n",
       "      <td>59.666667</td>\n",
       "      <td>Medium</td>\n",
       "      <td>47.666667</td>\n",
       "      <td>Press</td>\n",
       "      <td>63.833333</td>\n",
       "      <td>Normal</td>\n",
       "      <td>Cover</td>\n",
       "    </tr>\n",
       "    <tr>\n",
       "      <th>3</th>\n",
       "      <td>5</td>\n",
       "      <td>0</td>\n",
       "      <td>54.166667</td>\n",
       "      <td>Balanced</td>\n",
       "      <td>Little</td>\n",
       "      <td>46.333333</td>\n",
       "      <td>Mixed</td>\n",
       "      <td>Organised</td>\n",
       "      <td>44.500000</td>\n",
       "      <td>Normal</td>\n",
       "      <td>...</td>\n",
       "      <td>46.000000</td>\n",
       "      <td>Normal</td>\n",
       "      <td>Organised</td>\n",
       "      <td>46.000000</td>\n",
       "      <td>Medium</td>\n",
       "      <td>45.000000</td>\n",
       "      <td>Press</td>\n",
       "      <td>47.000000</td>\n",
       "      <td>Normal</td>\n",
       "      <td>Cover</td>\n",
       "    </tr>\n",
       "    <tr>\n",
       "      <th>5</th>\n",
       "      <td>1</td>\n",
       "      <td>1</td>\n",
       "      <td>56.666667</td>\n",
       "      <td>Balanced</td>\n",
       "      <td>Little</td>\n",
       "      <td>47.333333</td>\n",
       "      <td>Mixed</td>\n",
       "      <td>Organised</td>\n",
       "      <td>47.500000</td>\n",
       "      <td>Normal</td>\n",
       "      <td>...</td>\n",
       "      <td>47.666667</td>\n",
       "      <td>Normal</td>\n",
       "      <td>Organised</td>\n",
       "      <td>53.666667</td>\n",
       "      <td>Medium</td>\n",
       "      <td>53.833333</td>\n",
       "      <td>Press</td>\n",
       "      <td>54.666667</td>\n",
       "      <td>Normal</td>\n",
       "      <td>Cover</td>\n",
       "    </tr>\n",
       "  </tbody>\n",
       "</table>\n",
       "<p>5 rows × 42 columns</p>\n",
       "</div>"
      ],
      "text/plain": [
       "   home_team_goal  away_team_goal  home_buildUpPlaySpeed  \\\n",
       "0               1               1              56.333333   \n",
       "1               0               0              55.500000   \n",
       "2               0               3              53.666667   \n",
       "3               5               0              54.166667   \n",
       "5               1               1              56.666667   \n",
       "\n",
       "  home_buildUpPlaySpeedClass home_buildUpPlayDribblingClass  \\\n",
       "0                   Balanced                         Little   \n",
       "1                   Balanced                         Little   \n",
       "2                   Balanced                         Little   \n",
       "3                   Balanced                         Little   \n",
       "5                   Balanced                         Little   \n",
       "\n",
       "   home_buildUpPlayPassing home_buildUpPlayPassingClass  \\\n",
       "0                44.333333                        Mixed   \n",
       "1                52.666667                        Mixed   \n",
       "2                44.166667                        Mixed   \n",
       "3                46.333333                        Mixed   \n",
       "5                47.333333                        Mixed   \n",
       "\n",
       "  home_buildUpPlayPositioningClass  home_chanceCreationPassing  \\\n",
       "0                        Organised                   55.666667   \n",
       "1                        Organised                   50.000000   \n",
       "2                        Organised                   59.000000   \n",
       "3                        Organised                   44.500000   \n",
       "5                        Organised                   47.500000   \n",
       "\n",
       "  home_chanceCreationPassingClass  ...  away_chanceCreationShooting  \\\n",
       "0                          Normal  ...                    53.750000   \n",
       "1                          Normal  ...                    54.333333   \n",
       "2                          Normal  ...                    51.333333   \n",
       "3                          Normal  ...                    46.000000   \n",
       "5                          Normal  ...                    47.666667   \n",
       "\n",
       "  away_chanceCreationShootingClass  away_chanceCreationPositioningClass  \\\n",
       "0                           Normal                            Organised   \n",
       "1                           Normal                            Organised   \n",
       "2                           Normal                            Organised   \n",
       "3                           Normal                            Organised   \n",
       "5                           Normal                            Organised   \n",
       "\n",
       "  away_defencePressure away_defencePressureClass  away_defenceAggression  \\\n",
       "0            48.250000                    Medium               49.000000   \n",
       "1            48.833333                    Medium               55.166667   \n",
       "2            59.666667                    Medium               47.666667   \n",
       "3            46.000000                    Medium               45.000000   \n",
       "5            53.666667                    Medium               53.833333   \n",
       "\n",
       "  away_defenceAggressionClass  away_defenceTeamWidth  \\\n",
       "0                       Press              58.750000   \n",
       "1                       Press              55.500000   \n",
       "2                       Press              63.833333   \n",
       "3                       Press              47.000000   \n",
       "5                       Press              54.666667   \n",
       "\n",
       "  away_defenceTeamWidthClass  away_defenceDefenderLineClass  \n",
       "0                       Wide                          Cover  \n",
       "1                     Normal                          Cover  \n",
       "2                     Normal                          Cover  \n",
       "3                     Normal                          Cover  \n",
       "5                     Normal                          Cover  \n",
       "\n",
       "[5 rows x 42 columns]"
      ]
     },
     "execution_count": 35,
     "metadata": {},
     "output_type": "execute_result"
    }
   ],
   "source": [
    "df.head()"
   ]
  },
  {
   "cell_type": "markdown",
   "metadata": {
    "id": "CXLd43EZ9EgS"
   },
   "source": [
    "### 문제 8. 홈과 어웨이의 골 수를 승-무-패 범주로 변환하기"
   ]
  },
  {
   "cell_type": "code",
   "execution_count": 36,
   "metadata": {
    "ExecuteTime": {
     "end_time": "2021-07-25T10:22:09.601119Z",
     "start_time": "2021-07-25T10:22:08.319439Z"
    },
    "id": "8HbUtvqs9C-C"
   },
   "outputs": [],
   "source": [
    "# 홈과 어웨이의 골 수를 범주형 데이터로 변환하기 (0: 홈팀 승, 1: 무승부, 2: 어웨이팀 승)\n",
    "df['matchResult'] = df[['home_team_goal','away_team_goal']].aggregate(lambda x: 0 if x[0] > x[1] else 1 if x[0]==x[1] else 2,axis=1)"
   ]
  },
  {
   "cell_type": "code",
   "execution_count": 37,
   "metadata": {
    "ExecuteTime": {
     "end_time": "2021-07-25T10:22:09.632870Z",
     "start_time": "2021-07-25T10:22:09.605943Z"
    }
   },
   "outputs": [],
   "source": [
    "df.drop(['home_team_goal','away_team_goal'],axis=1,inplace=True)"
   ]
  },
  {
   "cell_type": "markdown",
   "metadata": {
    "id": "GD18QuastZy8"
   },
   "source": [
    "## Step 3. 모델 학습을 위한 데이터 전처리\n"
   ]
  },
  {
   "cell_type": "markdown",
   "metadata": {
    "id": "h3P9KRGT_qwG"
   },
   "source": [
    "### 문제 9. get_dummies를 이용하여 범주형 데이터 전처리하기"
   ]
  },
  {
   "cell_type": "code",
   "execution_count": 38,
   "metadata": {
    "ExecuteTime": {
     "end_time": "2021-07-25T10:22:09.934196Z",
     "start_time": "2021-07-25T10:22:09.635861Z"
    },
    "id": "OHcAUqV__qC2"
   },
   "outputs": [
    {
     "data": {
      "text/html": [
       "<div>\n",
       "<style scoped>\n",
       "    .dataframe tbody tr th:only-of-type {\n",
       "        vertical-align: middle;\n",
       "    }\n",
       "\n",
       "    .dataframe tbody tr th {\n",
       "        vertical-align: top;\n",
       "    }\n",
       "\n",
       "    .dataframe thead th {\n",
       "        text-align: right;\n",
       "    }\n",
       "</style>\n",
       "<table border=\"1\" class=\"dataframe\">\n",
       "  <thead>\n",
       "    <tr style=\"text-align: right;\">\n",
       "      <th></th>\n",
       "      <th>home_buildUpPlaySpeedClass_Fast</th>\n",
       "      <th>home_buildUpPlaySpeedClass_Slow</th>\n",
       "      <th>home_buildUpPlayDribblingClass_Normal</th>\n",
       "      <th>home_buildUpPlayPassingClass_Mixed</th>\n",
       "      <th>home_buildUpPlayPassingClass_Short</th>\n",
       "      <th>home_buildUpPlayPositioningClass_Organised</th>\n",
       "      <th>home_chanceCreationPassingClass_Risky</th>\n",
       "      <th>home_chanceCreationPassingClass_Safe</th>\n",
       "      <th>home_chanceCreationCrossingClass_Lots</th>\n",
       "      <th>home_chanceCreationCrossingClass_Normal</th>\n",
       "      <th>...</th>\n",
       "      <th>away_chanceCreationShootingClass_Lots</th>\n",
       "      <th>away_chanceCreationShootingClass_Normal</th>\n",
       "      <th>away_chanceCreationPositioningClass_Organised</th>\n",
       "      <th>away_defencePressureClass_High</th>\n",
       "      <th>away_defencePressureClass_Medium</th>\n",
       "      <th>away_defenceAggressionClass_Double</th>\n",
       "      <th>away_defenceAggressionClass_Press</th>\n",
       "      <th>away_defenceTeamWidthClass_Normal</th>\n",
       "      <th>away_defenceTeamWidthClass_Wide</th>\n",
       "      <th>away_defenceDefenderLineClass_Offside Trap</th>\n",
       "    </tr>\n",
       "  </thead>\n",
       "  <tbody>\n",
       "    <tr>\n",
       "      <th>0</th>\n",
       "      <td>0</td>\n",
       "      <td>0</td>\n",
       "      <td>0</td>\n",
       "      <td>1</td>\n",
       "      <td>0</td>\n",
       "      <td>1</td>\n",
       "      <td>0</td>\n",
       "      <td>0</td>\n",
       "      <td>0</td>\n",
       "      <td>1</td>\n",
       "      <td>...</td>\n",
       "      <td>0</td>\n",
       "      <td>1</td>\n",
       "      <td>1</td>\n",
       "      <td>0</td>\n",
       "      <td>1</td>\n",
       "      <td>0</td>\n",
       "      <td>1</td>\n",
       "      <td>0</td>\n",
       "      <td>1</td>\n",
       "      <td>0</td>\n",
       "    </tr>\n",
       "    <tr>\n",
       "      <th>1</th>\n",
       "      <td>0</td>\n",
       "      <td>0</td>\n",
       "      <td>0</td>\n",
       "      <td>1</td>\n",
       "      <td>0</td>\n",
       "      <td>1</td>\n",
       "      <td>0</td>\n",
       "      <td>0</td>\n",
       "      <td>0</td>\n",
       "      <td>1</td>\n",
       "      <td>...</td>\n",
       "      <td>0</td>\n",
       "      <td>1</td>\n",
       "      <td>1</td>\n",
       "      <td>0</td>\n",
       "      <td>1</td>\n",
       "      <td>0</td>\n",
       "      <td>1</td>\n",
       "      <td>1</td>\n",
       "      <td>0</td>\n",
       "      <td>0</td>\n",
       "    </tr>\n",
       "    <tr>\n",
       "      <th>2</th>\n",
       "      <td>0</td>\n",
       "      <td>0</td>\n",
       "      <td>0</td>\n",
       "      <td>1</td>\n",
       "      <td>0</td>\n",
       "      <td>1</td>\n",
       "      <td>0</td>\n",
       "      <td>0</td>\n",
       "      <td>0</td>\n",
       "      <td>1</td>\n",
       "      <td>...</td>\n",
       "      <td>0</td>\n",
       "      <td>1</td>\n",
       "      <td>1</td>\n",
       "      <td>0</td>\n",
       "      <td>1</td>\n",
       "      <td>0</td>\n",
       "      <td>1</td>\n",
       "      <td>1</td>\n",
       "      <td>0</td>\n",
       "      <td>0</td>\n",
       "    </tr>\n",
       "    <tr>\n",
       "      <th>3</th>\n",
       "      <td>0</td>\n",
       "      <td>0</td>\n",
       "      <td>0</td>\n",
       "      <td>1</td>\n",
       "      <td>0</td>\n",
       "      <td>1</td>\n",
       "      <td>0</td>\n",
       "      <td>0</td>\n",
       "      <td>0</td>\n",
       "      <td>1</td>\n",
       "      <td>...</td>\n",
       "      <td>0</td>\n",
       "      <td>1</td>\n",
       "      <td>1</td>\n",
       "      <td>0</td>\n",
       "      <td>1</td>\n",
       "      <td>0</td>\n",
       "      <td>1</td>\n",
       "      <td>1</td>\n",
       "      <td>0</td>\n",
       "      <td>0</td>\n",
       "    </tr>\n",
       "    <tr>\n",
       "      <th>5</th>\n",
       "      <td>0</td>\n",
       "      <td>0</td>\n",
       "      <td>0</td>\n",
       "      <td>1</td>\n",
       "      <td>0</td>\n",
       "      <td>1</td>\n",
       "      <td>0</td>\n",
       "      <td>0</td>\n",
       "      <td>0</td>\n",
       "      <td>1</td>\n",
       "      <td>...</td>\n",
       "      <td>0</td>\n",
       "      <td>1</td>\n",
       "      <td>1</td>\n",
       "      <td>0</td>\n",
       "      <td>1</td>\n",
       "      <td>0</td>\n",
       "      <td>1</td>\n",
       "      <td>1</td>\n",
       "      <td>0</td>\n",
       "      <td>0</td>\n",
       "    </tr>\n",
       "    <tr>\n",
       "      <th>...</th>\n",
       "      <td>...</td>\n",
       "      <td>...</td>\n",
       "      <td>...</td>\n",
       "      <td>...</td>\n",
       "      <td>...</td>\n",
       "      <td>...</td>\n",
       "      <td>...</td>\n",
       "      <td>...</td>\n",
       "      <td>...</td>\n",
       "      <td>...</td>\n",
       "      <td>...</td>\n",
       "      <td>...</td>\n",
       "      <td>...</td>\n",
       "      <td>...</td>\n",
       "      <td>...</td>\n",
       "      <td>...</td>\n",
       "      <td>...</td>\n",
       "      <td>...</td>\n",
       "      <td>...</td>\n",
       "      <td>...</td>\n",
       "      <td>...</td>\n",
       "    </tr>\n",
       "    <tr>\n",
       "      <th>25972</th>\n",
       "      <td>0</td>\n",
       "      <td>0</td>\n",
       "      <td>0</td>\n",
       "      <td>1</td>\n",
       "      <td>0</td>\n",
       "      <td>1</td>\n",
       "      <td>0</td>\n",
       "      <td>0</td>\n",
       "      <td>0</td>\n",
       "      <td>1</td>\n",
       "      <td>...</td>\n",
       "      <td>0</td>\n",
       "      <td>1</td>\n",
       "      <td>1</td>\n",
       "      <td>0</td>\n",
       "      <td>1</td>\n",
       "      <td>0</td>\n",
       "      <td>1</td>\n",
       "      <td>1</td>\n",
       "      <td>0</td>\n",
       "      <td>0</td>\n",
       "    </tr>\n",
       "    <tr>\n",
       "      <th>25974</th>\n",
       "      <td>0</td>\n",
       "      <td>0</td>\n",
       "      <td>0</td>\n",
       "      <td>1</td>\n",
       "      <td>0</td>\n",
       "      <td>1</td>\n",
       "      <td>0</td>\n",
       "      <td>0</td>\n",
       "      <td>0</td>\n",
       "      <td>1</td>\n",
       "      <td>...</td>\n",
       "      <td>0</td>\n",
       "      <td>1</td>\n",
       "      <td>1</td>\n",
       "      <td>0</td>\n",
       "      <td>1</td>\n",
       "      <td>0</td>\n",
       "      <td>1</td>\n",
       "      <td>1</td>\n",
       "      <td>0</td>\n",
       "      <td>0</td>\n",
       "    </tr>\n",
       "    <tr>\n",
       "      <th>25975</th>\n",
       "      <td>0</td>\n",
       "      <td>0</td>\n",
       "      <td>0</td>\n",
       "      <td>1</td>\n",
       "      <td>0</td>\n",
       "      <td>1</td>\n",
       "      <td>0</td>\n",
       "      <td>0</td>\n",
       "      <td>0</td>\n",
       "      <td>1</td>\n",
       "      <td>...</td>\n",
       "      <td>0</td>\n",
       "      <td>1</td>\n",
       "      <td>1</td>\n",
       "      <td>0</td>\n",
       "      <td>1</td>\n",
       "      <td>0</td>\n",
       "      <td>1</td>\n",
       "      <td>1</td>\n",
       "      <td>0</td>\n",
       "      <td>0</td>\n",
       "    </tr>\n",
       "    <tr>\n",
       "      <th>25976</th>\n",
       "      <td>0</td>\n",
       "      <td>0</td>\n",
       "      <td>0</td>\n",
       "      <td>1</td>\n",
       "      <td>0</td>\n",
       "      <td>1</td>\n",
       "      <td>0</td>\n",
       "      <td>0</td>\n",
       "      <td>0</td>\n",
       "      <td>1</td>\n",
       "      <td>...</td>\n",
       "      <td>0</td>\n",
       "      <td>1</td>\n",
       "      <td>1</td>\n",
       "      <td>0</td>\n",
       "      <td>1</td>\n",
       "      <td>0</td>\n",
       "      <td>1</td>\n",
       "      <td>1</td>\n",
       "      <td>0</td>\n",
       "      <td>0</td>\n",
       "    </tr>\n",
       "    <tr>\n",
       "      <th>25978</th>\n",
       "      <td>0</td>\n",
       "      <td>0</td>\n",
       "      <td>0</td>\n",
       "      <td>1</td>\n",
       "      <td>0</td>\n",
       "      <td>1</td>\n",
       "      <td>0</td>\n",
       "      <td>0</td>\n",
       "      <td>1</td>\n",
       "      <td>0</td>\n",
       "      <td>...</td>\n",
       "      <td>0</td>\n",
       "      <td>1</td>\n",
       "      <td>1</td>\n",
       "      <td>0</td>\n",
       "      <td>1</td>\n",
       "      <td>0</td>\n",
       "      <td>1</td>\n",
       "      <td>1</td>\n",
       "      <td>0</td>\n",
       "      <td>0</td>\n",
       "    </tr>\n",
       "  </tbody>\n",
       "</table>\n",
       "<p>25629 rows × 40 columns</p>\n",
       "</div>"
      ],
      "text/plain": [
       "       home_buildUpPlaySpeedClass_Fast  home_buildUpPlaySpeedClass_Slow  \\\n",
       "0                                    0                                0   \n",
       "1                                    0                                0   \n",
       "2                                    0                                0   \n",
       "3                                    0                                0   \n",
       "5                                    0                                0   \n",
       "...                                ...                              ...   \n",
       "25972                                0                                0   \n",
       "25974                                0                                0   \n",
       "25975                                0                                0   \n",
       "25976                                0                                0   \n",
       "25978                                0                                0   \n",
       "\n",
       "       home_buildUpPlayDribblingClass_Normal  \\\n",
       "0                                          0   \n",
       "1                                          0   \n",
       "2                                          0   \n",
       "3                                          0   \n",
       "5                                          0   \n",
       "...                                      ...   \n",
       "25972                                      0   \n",
       "25974                                      0   \n",
       "25975                                      0   \n",
       "25976                                      0   \n",
       "25978                                      0   \n",
       "\n",
       "       home_buildUpPlayPassingClass_Mixed  home_buildUpPlayPassingClass_Short  \\\n",
       "0                                       1                                   0   \n",
       "1                                       1                                   0   \n",
       "2                                       1                                   0   \n",
       "3                                       1                                   0   \n",
       "5                                       1                                   0   \n",
       "...                                   ...                                 ...   \n",
       "25972                                   1                                   0   \n",
       "25974                                   1                                   0   \n",
       "25975                                   1                                   0   \n",
       "25976                                   1                                   0   \n",
       "25978                                   1                                   0   \n",
       "\n",
       "       home_buildUpPlayPositioningClass_Organised  \\\n",
       "0                                               1   \n",
       "1                                               1   \n",
       "2                                               1   \n",
       "3                                               1   \n",
       "5                                               1   \n",
       "...                                           ...   \n",
       "25972                                           1   \n",
       "25974                                           1   \n",
       "25975                                           1   \n",
       "25976                                           1   \n",
       "25978                                           1   \n",
       "\n",
       "       home_chanceCreationPassingClass_Risky  \\\n",
       "0                                          0   \n",
       "1                                          0   \n",
       "2                                          0   \n",
       "3                                          0   \n",
       "5                                          0   \n",
       "...                                      ...   \n",
       "25972                                      0   \n",
       "25974                                      0   \n",
       "25975                                      0   \n",
       "25976                                      0   \n",
       "25978                                      0   \n",
       "\n",
       "       home_chanceCreationPassingClass_Safe  \\\n",
       "0                                         0   \n",
       "1                                         0   \n",
       "2                                         0   \n",
       "3                                         0   \n",
       "5                                         0   \n",
       "...                                     ...   \n",
       "25972                                     0   \n",
       "25974                                     0   \n",
       "25975                                     0   \n",
       "25976                                     0   \n",
       "25978                                     0   \n",
       "\n",
       "       home_chanceCreationCrossingClass_Lots  \\\n",
       "0                                          0   \n",
       "1                                          0   \n",
       "2                                          0   \n",
       "3                                          0   \n",
       "5                                          0   \n",
       "...                                      ...   \n",
       "25972                                      0   \n",
       "25974                                      0   \n",
       "25975                                      0   \n",
       "25976                                      0   \n",
       "25978                                      1   \n",
       "\n",
       "       home_chanceCreationCrossingClass_Normal  ...  \\\n",
       "0                                            1  ...   \n",
       "1                                            1  ...   \n",
       "2                                            1  ...   \n",
       "3                                            1  ...   \n",
       "5                                            1  ...   \n",
       "...                                        ...  ...   \n",
       "25972                                        1  ...   \n",
       "25974                                        1  ...   \n",
       "25975                                        1  ...   \n",
       "25976                                        1  ...   \n",
       "25978                                        0  ...   \n",
       "\n",
       "       away_chanceCreationShootingClass_Lots  \\\n",
       "0                                          0   \n",
       "1                                          0   \n",
       "2                                          0   \n",
       "3                                          0   \n",
       "5                                          0   \n",
       "...                                      ...   \n",
       "25972                                      0   \n",
       "25974                                      0   \n",
       "25975                                      0   \n",
       "25976                                      0   \n",
       "25978                                      0   \n",
       "\n",
       "       away_chanceCreationShootingClass_Normal  \\\n",
       "0                                            1   \n",
       "1                                            1   \n",
       "2                                            1   \n",
       "3                                            1   \n",
       "5                                            1   \n",
       "...                                        ...   \n",
       "25972                                        1   \n",
       "25974                                        1   \n",
       "25975                                        1   \n",
       "25976                                        1   \n",
       "25978                                        1   \n",
       "\n",
       "       away_chanceCreationPositioningClass_Organised  \\\n",
       "0                                                  1   \n",
       "1                                                  1   \n",
       "2                                                  1   \n",
       "3                                                  1   \n",
       "5                                                  1   \n",
       "...                                              ...   \n",
       "25972                                              1   \n",
       "25974                                              1   \n",
       "25975                                              1   \n",
       "25976                                              1   \n",
       "25978                                              1   \n",
       "\n",
       "       away_defencePressureClass_High  away_defencePressureClass_Medium  \\\n",
       "0                                   0                                 1   \n",
       "1                                   0                                 1   \n",
       "2                                   0                                 1   \n",
       "3                                   0                                 1   \n",
       "5                                   0                                 1   \n",
       "...                               ...                               ...   \n",
       "25972                               0                                 1   \n",
       "25974                               0                                 1   \n",
       "25975                               0                                 1   \n",
       "25976                               0                                 1   \n",
       "25978                               0                                 1   \n",
       "\n",
       "       away_defenceAggressionClass_Double  away_defenceAggressionClass_Press  \\\n",
       "0                                       0                                  1   \n",
       "1                                       0                                  1   \n",
       "2                                       0                                  1   \n",
       "3                                       0                                  1   \n",
       "5                                       0                                  1   \n",
       "...                                   ...                                ...   \n",
       "25972                                   0                                  1   \n",
       "25974                                   0                                  1   \n",
       "25975                                   0                                  1   \n",
       "25976                                   0                                  1   \n",
       "25978                                   0                                  1   \n",
       "\n",
       "       away_defenceTeamWidthClass_Normal  away_defenceTeamWidthClass_Wide  \\\n",
       "0                                      0                                1   \n",
       "1                                      1                                0   \n",
       "2                                      1                                0   \n",
       "3                                      1                                0   \n",
       "5                                      1                                0   \n",
       "...                                  ...                              ...   \n",
       "25972                                  1                                0   \n",
       "25974                                  1                                0   \n",
       "25975                                  1                                0   \n",
       "25976                                  1                                0   \n",
       "25978                                  1                                0   \n",
       "\n",
       "       away_defenceDefenderLineClass_Offside Trap  \n",
       "0                                               0  \n",
       "1                                               0  \n",
       "2                                               0  \n",
       "3                                               0  \n",
       "5                                               0  \n",
       "...                                           ...  \n",
       "25972                                           0  \n",
       "25974                                           0  \n",
       "25975                                           0  \n",
       "25976                                           0  \n",
       "25978                                           0  \n",
       "\n",
       "[25629 rows x 40 columns]"
      ]
     },
     "execution_count": 38,
     "metadata": {},
     "output_type": "execute_result"
    }
   ],
   "source": [
    "col_cats = list(filter(lambda s: s.find('Class') >= 0, df.columns))\n",
    "df_cats = pd.get_dummies(df[col_cats], drop_first=True)\n",
    "df_cats"
   ]
  },
  {
   "cell_type": "markdown",
   "metadata": {
    "id": "Dev2yLeMta85"
   },
   "source": [
    "### 문제 10. StandardScaler를 이용해 수치형 데이터 표준화하기\n"
   ]
  },
  {
   "cell_type": "code",
   "execution_count": 39,
   "metadata": {
    "ExecuteTime": {
     "end_time": "2021-07-25T10:22:15.273428Z",
     "start_time": "2021-07-25T10:22:09.938844Z"
    },
    "id": "_k_SDCh5xMgD"
   },
   "outputs": [],
   "source": [
    "from sklearn.preprocessing import StandardScaler"
   ]
  },
  {
   "cell_type": "code",
   "execution_count": 40,
   "metadata": {
    "ExecuteTime": {
     "end_time": "2021-07-25T10:22:15.351786Z",
     "start_time": "2021-07-25T10:22:15.278486Z"
    },
    "id": "W3EO22NCE3wG"
   },
   "outputs": [],
   "source": [
    "# StandardScaler를 이용해 수치형 데이터를 표준화하기\n",
    "# Hint) Multicollinearity를 피하기 위해 불필요한 컬럼은 drop한다.\n",
    "\n",
    "X_num = df.drop(['matchResult'] + col_cats, axis=1)\n",
    "scaler = StandardScaler()\n",
    "scaler.fit(X_num)\n",
    "X_scaled = scaler.transform(X_num)\n",
    "X_scaled = pd.DataFrame(data=X_scaled, index=X_num.index, columns=X_num.columns)\n",
    "X_cat = df_cats\n",
    "X = pd.concat([X_scaled, X_cat], axis=1)\n",
    "y = df['matchResult']"
   ]
  },
  {
   "cell_type": "code",
   "execution_count": 41,
   "metadata": {
    "ExecuteTime": {
     "end_time": "2021-07-25T10:22:15.429112Z",
     "start_time": "2021-07-25T10:22:15.355774Z"
    }
   },
   "outputs": [
    {
     "name": "stdout",
     "output_type": "stream",
     "text": [
      "<class 'pandas.core.frame.DataFrame'>\n",
      "Int64Index: 25629 entries, 0 to 25978\n",
      "Data columns (total 56 columns):\n",
      " #   Column                                         Non-Null Count  Dtype  \n",
      "---  ------                                         --------------  -----  \n",
      " 0   home_buildUpPlaySpeed                          25629 non-null  float64\n",
      " 1   home_buildUpPlayPassing                        25629 non-null  float64\n",
      " 2   home_chanceCreationPassing                     25629 non-null  float64\n",
      " 3   home_chanceCreationCrossing                    25629 non-null  float64\n",
      " 4   home_chanceCreationShooting                    25629 non-null  float64\n",
      " 5   home_defencePressure                           25629 non-null  float64\n",
      " 6   home_defenceAggression                         25629 non-null  float64\n",
      " 7   home_defenceTeamWidth                          25629 non-null  float64\n",
      " 8   away_buildUpPlaySpeed                          25629 non-null  float64\n",
      " 9   away_buildUpPlayPassing                        25629 non-null  float64\n",
      " 10  away_chanceCreationPassing                     25629 non-null  float64\n",
      " 11  away_chanceCreationCrossing                    25629 non-null  float64\n",
      " 12  away_chanceCreationShooting                    25629 non-null  float64\n",
      " 13  away_defencePressure                           25629 non-null  float64\n",
      " 14  away_defenceAggression                         25629 non-null  float64\n",
      " 15  away_defenceTeamWidth                          25629 non-null  float64\n",
      " 16  home_buildUpPlaySpeedClass_Fast                25629 non-null  uint8  \n",
      " 17  home_buildUpPlaySpeedClass_Slow                25629 non-null  uint8  \n",
      " 18  home_buildUpPlayDribblingClass_Normal          25629 non-null  uint8  \n",
      " 19  home_buildUpPlayPassingClass_Mixed             25629 non-null  uint8  \n",
      " 20  home_buildUpPlayPassingClass_Short             25629 non-null  uint8  \n",
      " 21  home_buildUpPlayPositioningClass_Organised     25629 non-null  uint8  \n",
      " 22  home_chanceCreationPassingClass_Risky          25629 non-null  uint8  \n",
      " 23  home_chanceCreationPassingClass_Safe           25629 non-null  uint8  \n",
      " 24  home_chanceCreationCrossingClass_Lots          25629 non-null  uint8  \n",
      " 25  home_chanceCreationCrossingClass_Normal        25629 non-null  uint8  \n",
      " 26  home_chanceCreationShootingClass_Lots          25629 non-null  uint8  \n",
      " 27  home_chanceCreationShootingClass_Normal        25629 non-null  uint8  \n",
      " 28  home_chanceCreationPositioningClass_Organised  25629 non-null  uint8  \n",
      " 29  home_defencePressureClass_High                 25629 non-null  uint8  \n",
      " 30  home_defencePressureClass_Medium               25629 non-null  uint8  \n",
      " 31  home_defenceAggressionClass_Double             25629 non-null  uint8  \n",
      " 32  home_defenceAggressionClass_Press              25629 non-null  uint8  \n",
      " 33  home_defenceTeamWidthClass_Normal              25629 non-null  uint8  \n",
      " 34  home_defenceTeamWidthClass_Wide                25629 non-null  uint8  \n",
      " 35  home_defenceDefenderLineClass_Offside Trap     25629 non-null  uint8  \n",
      " 36  away_buildUpPlaySpeedClass_Fast                25629 non-null  uint8  \n",
      " 37  away_buildUpPlaySpeedClass_Slow                25629 non-null  uint8  \n",
      " 38  away_buildUpPlayDribblingClass_Normal          25629 non-null  uint8  \n",
      " 39  away_buildUpPlayPassingClass_Mixed             25629 non-null  uint8  \n",
      " 40  away_buildUpPlayPassingClass_Short             25629 non-null  uint8  \n",
      " 41  away_buildUpPlayPositioningClass_Organised     25629 non-null  uint8  \n",
      " 42  away_chanceCreationPassingClass_Risky          25629 non-null  uint8  \n",
      " 43  away_chanceCreationPassingClass_Safe           25629 non-null  uint8  \n",
      " 44  away_chanceCreationCrossingClass_Lots          25629 non-null  uint8  \n",
      " 45  away_chanceCreationCrossingClass_Normal        25629 non-null  uint8  \n",
      " 46  away_chanceCreationShootingClass_Lots          25629 non-null  uint8  \n",
      " 47  away_chanceCreationShootingClass_Normal        25629 non-null  uint8  \n",
      " 48  away_chanceCreationPositioningClass_Organised  25629 non-null  uint8  \n",
      " 49  away_defencePressureClass_High                 25629 non-null  uint8  \n",
      " 50  away_defencePressureClass_Medium               25629 non-null  uint8  \n",
      " 51  away_defenceAggressionClass_Double             25629 non-null  uint8  \n",
      " 52  away_defenceAggressionClass_Press              25629 non-null  uint8  \n",
      " 53  away_defenceTeamWidthClass_Normal              25629 non-null  uint8  \n",
      " 54  away_defenceTeamWidthClass_Wide                25629 non-null  uint8  \n",
      " 55  away_defenceDefenderLineClass_Offside Trap     25629 non-null  uint8  \n",
      "dtypes: float64(16), uint8(40)\n",
      "memory usage: 4.3 MB\n"
     ]
    }
   ],
   "source": [
    "X.info()"
   ]
  },
  {
   "cell_type": "markdown",
   "metadata": {
    "id": "x93Tb6lptcA2"
   },
   "source": [
    "### 문제 11. 학습데이터와 테스트데이터 분리하기\n"
   ]
  },
  {
   "cell_type": "code",
   "execution_count": 42,
   "metadata": {
    "ExecuteTime": {
     "end_time": "2021-07-25T10:22:15.613044Z",
     "start_time": "2021-07-25T10:22:15.433960Z"
    },
    "id": "C9kMQI8SEche"
   },
   "outputs": [],
   "source": [
    "from sklearn.model_selection import train_test_split"
   ]
  },
  {
   "cell_type": "code",
   "execution_count": 43,
   "metadata": {
    "ExecuteTime": {
     "end_time": "2021-07-25T10:22:15.674776Z",
     "start_time": "2021-07-25T10:22:15.618041Z"
    },
    "id": "F07QjOFwFNEw"
   },
   "outputs": [],
   "source": [
    "# train_test_split() 함수로 학습 데이터와 테스트 데이터 분리하기\n",
    "X_train, X_test, y_train, y_test = train_test_split(X, y, test_size=0.3, random_state=1)"
   ]
  },
  {
   "cell_type": "markdown",
   "metadata": {
    "id": "DTqb-HqPtc4I"
   },
   "source": [
    "## Step 4. Classification 모델 학습하기\n"
   ]
  },
  {
   "cell_type": "markdown",
   "metadata": {
    "id": "Ckexl202tmZI"
   },
   "source": [
    "### 문제 12. Logistic Regression 모델 생성/학습하기\n"
   ]
  },
  {
   "cell_type": "code",
   "execution_count": 44,
   "metadata": {
    "ExecuteTime": {
     "end_time": "2021-07-25T10:22:15.968491Z",
     "start_time": "2021-07-25T10:22:15.679758Z"
    },
    "id": "2Wt_0AdNFfbN"
   },
   "outputs": [],
   "source": [
    "from sklearn.linear_model import LogisticRegression"
   ]
  },
  {
   "cell_type": "code",
   "execution_count": 45,
   "metadata": {
    "ExecuteTime": {
     "end_time": "2021-07-25T10:22:22.220488Z",
     "start_time": "2021-07-25T10:22:15.972534Z"
    },
    "id": "1lM57a_8Fdbh"
   },
   "outputs": [
    {
     "data": {
      "text/plain": [
       "LogisticRegression(max_iter=10000)"
      ]
     },
     "execution_count": 45,
     "metadata": {},
     "output_type": "execute_result"
    }
   ],
   "source": [
    "# LogisticRegression 모델 생성/학습\n",
    "model_lr = LogisticRegression(max_iter=10000)\n",
    "model_lr.fit(X_train, y_train)"
   ]
  },
  {
   "cell_type": "markdown",
   "metadata": {
    "id": "APOI7Hc9tnvr"
   },
   "source": [
    "### 문제 13. 모델 학습 결과 평가하기\n"
   ]
  },
  {
   "cell_type": "code",
   "execution_count": 46,
   "metadata": {
    "ExecuteTime": {
     "end_time": "2021-07-25T10:22:22.235449Z",
     "start_time": "2021-07-25T10:22:22.224726Z"
    },
    "id": "2lIoyMjFFrif"
   },
   "outputs": [],
   "source": [
    "from sklearn.metrics import classification_report"
   ]
  },
  {
   "cell_type": "code",
   "execution_count": 47,
   "metadata": {
    "ExecuteTime": {
     "end_time": "2021-07-25T10:22:22.326785Z",
     "start_time": "2021-07-25T10:22:22.241432Z"
    },
    "id": "1dD9JnN-FnpC"
   },
   "outputs": [
    {
     "name": "stdout",
     "output_type": "stream",
     "text": [
      "              precision    recall  f1-score   support\n",
      "\n",
      "           0       0.50      0.88      0.63      3484\n",
      "           1       0.27      0.00      0.01      1972\n",
      "           2       0.46      0.30      0.37      2233\n",
      "\n",
      "    accuracy                           0.49      7689\n",
      "   macro avg       0.41      0.40      0.34      7689\n",
      "weighted avg       0.43      0.49      0.39      7689\n",
      "\n"
     ]
    }
   ],
   "source": [
    "# Predict를 수행하고 classification_report() 결과 출력하기\n",
    "pred = model_lr.predict(X_test)\n",
    "print(classification_report(y_test, pred))"
   ]
  },
  {
   "cell_type": "code",
   "execution_count": 48,
   "metadata": {
    "ExecuteTime": {
     "end_time": "2021-07-25T10:22:22.372439Z",
     "start_time": "2021-07-25T10:22:22.337401Z"
    }
   },
   "outputs": [
    {
     "name": "stdout",
     "output_type": "stream",
     "text": [
      "0.4531148393809338\n",
      "0.2564702822213552\n",
      "0.290414878397711\n"
     ]
    }
   ],
   "source": [
    "print(sum(y_test ==0)/len(y_test))\n",
    "print(sum(y_test ==1)/len(y_test))\n",
    "print(sum(y_test ==2)/len(y_test))"
   ]
  },
  {
   "cell_type": "markdown",
   "metadata": {
    "id": "xTRTOLTNto3h"
   },
   "source": [
    "### 문제 14. XGBoost 모델 생성/학습하기\n"
   ]
  },
  {
   "cell_type": "code",
   "execution_count": 49,
   "metadata": {
    "ExecuteTime": {
     "end_time": "2021-07-25T10:22:23.159539Z",
     "start_time": "2021-07-25T10:22:22.377134Z"
    },
    "id": "ow28ZRL4F7D5"
   },
   "outputs": [],
   "source": [
    "from xgboost import XGBClassifier"
   ]
  },
  {
   "cell_type": "code",
   "execution_count": 50,
   "metadata": {
    "ExecuteTime": {
     "end_time": "2021-07-25T10:22:36.813885Z",
     "start_time": "2021-07-25T10:22:23.184615Z"
    },
    "id": "LSSNqFUrGM6R",
    "scrolled": true
   },
   "outputs": [
    {
     "name": "stdout",
     "output_type": "stream",
     "text": [
      "[19:22:23] WARNING: ..\\src\\learner.cc:1061: Starting in XGBoost 1.3.0, the default evaluation metric used with the objective 'multi:softprob' was changed from 'merror' to 'mlogloss'. Explicitly set eval_metric if you'd like to restore the old behavior.\n"
     ]
    },
    {
     "data": {
      "text/plain": [
       "XGBClassifier(base_score=0.5, booster='gbtree', colsample_bylevel=1,\n",
       "              colsample_bynode=1, colsample_bytree=1, gamma=0, gpu_id=-1,\n",
       "              importance_type='gain', interaction_constraints='',\n",
       "              learning_rate=0.300000012, max_delta_step=0, max_depth=6,\n",
       "              min_child_weight=1, missing=nan, monotone_constraints='()',\n",
       "              n_estimators=100, n_jobs=4, num_parallel_tree=1,\n",
       "              objective='multi:softprob', random_state=0, reg_alpha=0,\n",
       "              reg_lambda=1, scale_pos_weight=None, subsample=1,\n",
       "              tree_method='exact', validate_parameters=1, verbosity=None)"
      ]
     },
     "execution_count": 50,
     "metadata": {},
     "output_type": "execute_result"
    }
   ],
   "source": [
    "# XGBClassifier 모델 생성/학습\n",
    "import warnings\n",
    "warnings.filterwarnings(action='ignore') \n",
    "\n",
    "model_xgb = XGBClassifier()\n",
    "model_xgb.fit(X_train, y_train)"
   ]
  },
  {
   "cell_type": "markdown",
   "metadata": {
    "id": "kAisZoSEtp35"
   },
   "source": [
    "### 문제 15. 모델 학습 결과 평가하기\n"
   ]
  },
  {
   "cell_type": "code",
   "execution_count": 51,
   "metadata": {
    "ExecuteTime": {
     "end_time": "2021-07-25T10:22:36.972055Z",
     "start_time": "2021-07-25T10:22:36.817958Z"
    },
    "id": "WLnyYNJwGRgd"
   },
   "outputs": [
    {
     "name": "stdout",
     "output_type": "stream",
     "text": [
      "              precision    recall  f1-score   support\n",
      "\n",
      "           0       0.53      0.71      0.61      3484\n",
      "           1       0.27      0.15      0.19      1972\n",
      "           2       0.44      0.39      0.41      2233\n",
      "\n",
      "    accuracy                           0.47      7689\n",
      "   macro avg       0.42      0.42      0.41      7689\n",
      "weighted avg       0.44      0.47      0.45      7689\n",
      "\n"
     ]
    }
   ],
   "source": [
    "# Predict를 수행하고 classification_report() 결과 출력하기\n",
    "pred = model_xgb.predict(X_test)\n",
    "print(classification_report(y_test, pred))"
   ]
  },
  {
   "cell_type": "markdown",
   "metadata": {
    "id": "7icVVlSwtr53"
   },
   "source": [
    "## Step5 모델 학습 결과 심화 분석하기\n"
   ]
  },
  {
   "cell_type": "markdown",
   "metadata": {
    "id": "LmaEIOOItvJa"
   },
   "source": [
    "### 문제 16. Logistic Regression 모델 계수로 상관성 파악하기"
   ]
  },
  {
   "cell_type": "code",
   "execution_count": 52,
   "metadata": {
    "ExecuteTime": {
     "end_time": "2021-07-25T10:22:44.203968Z",
     "start_time": "2021-07-25T10:22:36.975634Z"
    },
    "id": "BUIXk9RNGnRa"
   },
   "outputs": [
    {
     "data": {
      "image/png": "[encoded data removed]",
      "text/plain": [
       "<Figure size 1080x360 with 1 Axes>"
      ]
     },
     "metadata": {
      "needs_background": "light"
     },
     "output_type": "display_data"
    }
   ],
   "source": [
    "# Logistic Regression 모델의 coef_ 속성을 plot하기\n",
    "fig = plt.figure(figsize=(15,5))\n",
    "plt.plot(X.columns, model_lr.coef_[0])\n",
    "plt.xticks(rotation=90)\n",
    "plt.title('What makes Home Team Win?',fontsize= 30)\n",
    "plt.grid()\n",
    "plt.show()\n",
    "\n"
   ]
  },
  {
   "cell_type": "code",
   "execution_count": 53,
   "metadata": {
    "ExecuteTime": {
     "end_time": "2021-07-25T10:22:52.888422Z",
     "start_time": "2021-07-25T10:22:44.210070Z"
    }
   },
   "outputs": [
    {
     "data": {
      "image/png": "[encoded data removed]",
      "text/plain": [
       "<Figure size 1080x360 with 1 Axes>"
      ]
     },
     "metadata": {
      "needs_background": "light"
     },
     "output_type": "display_data"
    }
   ],
   "source": [
    "fig = plt.figure(figsize=(15,5))\n",
    "plt.plot(X.columns, model_lr.coef_[1])\n",
    "plt.xticks(rotation=90)\n",
    "plt.title('What makes Away Team Win?',fontsize= 30)\n",
    "plt.grid()\n",
    "plt.show()"
   ]
  },
  {
   "cell_type": "markdown",
   "metadata": {
    "id": "5yIbQKjktuwg"
   },
   "source": [
    "### 문제 17. XGBoost 모델로 특징의 중요도 확인하기"
   ]
  },
  {
   "cell_type": "code",
   "execution_count": 54,
   "metadata": {
    "ExecuteTime": {
     "end_time": "2021-07-25T10:23:00.944632Z",
     "start_time": "2021-07-25T10:22:52.895566Z"
    },
    "id": "3bY4SZZ4HBdN"
   },
   "outputs": [
    {
     "data": {
      "image/png": "[encoded data removed]",
      "text/plain": [
       "<Figure size 1080x432 with 1 Axes>"
      ]
     },
     "metadata": {
      "needs_background": "light"
     },
     "output_type": "display_data"
    }
   ],
   "source": [
    "# XGBoost 모델의 feature_importances_ 속성을 plot하기\n",
    "fig = plt.figure(figsize=(15,6))\n",
    "plt.bar(X.columns, model_xgb.feature_importances_)\n",
    "plt.xticks(rotation=90)\n",
    "plt.show()"
   ]
  },
  {
   "cell_type": "markdown",
   "metadata": {
    "id": "yZDSXPJGAZwY"
   },
   "source": [
    "## Step6 모델 성능 개선하기\n"
   ]
  },
  {
   "cell_type": "markdown",
   "metadata": {
    "id": "PhsubHo0AZwa"
   },
   "source": [
    "### 문제 18. 매치 데이터프레임에 선수 특성 데이터프레임 통합하기"
   ]
  },
  {
   "cell_type": "code",
   "execution_count": null,
   "metadata": {
    "ExecuteTime": {
     "end_time": "2021-07-24T13:20:39.700979Z",
     "start_time": "2021-07-24T13:20:39.689012Z"
    },
    "id": "ytmN-1KqAZwb"
   },
   "outputs": [],
   "source": [
    "# 선수 특성 중 유의미한 정보를 매치 데이터프레임에 통합하기\n",
    "\n",
    "\n",
    "\n"
   ]
  },
  {
   "cell_type": "markdown",
   "metadata": {
    "id": "AHaY31ROAZwb"
   },
   "source": [
    "### 문제 19. 모델 재학습하여 평가하기"
   ]
  },
  {
   "cell_type": "code",
   "execution_count": null,
   "metadata": {
    "id": "TZN69-yfAZwb"
   },
   "outputs": [],
   "source": [
    "\n",
    "\n",
    "\n"
   ]
  }
 ],
 "metadata": {
  "colab": {
   "collapsed_sections": [],
   "name": "1-4. 오늘 밤 유럽 축구, 어디가 이길까? 데이터로 분석하고 내기를 이겨보자!",
   "provenance": [
    {
     "file_id": "1j79f83Q3TPyjwsbNx2fy_Dt-J37MVNvZ",
     "timestamp": 1605597047726
    },
    {
     "file_id": "1QiLPv5TzBrE7Lb-X4fMq7KHePTq0Em2L",
     "timestamp": 1605593695308
    },
    {
     "file_id": "1Ot6dlC7E_dqo8XOgyTA03SKSqFcvkCdO",
     "timestamp": 1605087778098
    },
    {
     "file_id": "1cS2OjWOehEb97E7763rQ_LrzQIK34Kd-",
     "timestamp": 1604921871166
    },
    {
     "file_id": "1g7SaVjG6EvBPvIH4ADG2RA3qN8v521d1",
     "timestamp": 1604886286018
    }
   ]
  },
  "kernelspec": {
   "display_name": "Python 3",
   "language": "python",
   "name": "python3"
  },
  "language_info": {
   "codemirror_mode": {
    "name": "ipython",
    "version": 3
   },
   "file_extension": ".py",
   "mimetype": "text/x-python",
   "name": "python",
   "nbconvert_exporter": "python",
   "pygments_lexer": "ipython3",
   "version": "3.8.8"
  },
  "toc": {
   "base_numbering": 1,
   "nav_menu": {},
   "number_sections": true,
   "sideBar": true,
   "skip_h1_title": false,
   "title_cell": "Table of Contents",
   "title_sidebar": "Contents",
   "toc_cell": false,
   "toc_position": {
    "height": "calc(100% - 180px)",
    "left": "10px",
    "top": "150px",
    "width": "307.2px"
   },
   "toc_section_display": true,
   "toc_window_display": false
  },
  "varInspector": {
   "cols": {
    "lenName": 16,
    "lenType": 16,
    "lenVar": 40
   },
   "kernels_config": {
    "python": {
     "delete_cmd_postfix": "",
     "delete_cmd_prefix": "del ",
     "library": "var_list.py",
     "varRefreshCmd": "print(var_dic_list())"
    },
    "r": {
     "delete_cmd_postfix": ") ",
     "delete_cmd_prefix": "rm(",
     "library": "var_list.r",
     "varRefreshCmd": "cat(var_dic_list()) "
    }
   },
   "types_to_exclude": [
    "module",
    "function",
    "builtin_function_or_method",
    "instance",
    "_Feature"
   ],
   "window_display": false
  }
 },
 "nbformat": 4,
 "nbformat_minor": 1
}
